{
 "cells": [
  {
   "cell_type": "markdown",
   "metadata": {},
   "source": [
    "## Описание проекта\n",
    "\n",
    "Сервис по продаже автомобилей с пробегом «Не бит, не крашен» разрабатывает приложение для привлечения новых клиентов. <br/>\n",
    "В нём можно быстро узнать рыночную стоимость своего автомобиля. \n",
    "\n",
    "В вашем распоряжении исторические данные: технические характеристики, комплектации и цены автомобилей.<br/>\n",
    "Вам нужно построить модель для определения стоимости.<br/>\n",
    "Заказчику важны:\n",
    "- качество предсказания;\n",
    "- скорость предсказания;\n",
    "- время обучения.\n",
    "\n",
    "Инструкция по выполнению проекта\n",
    "\n",
    "Чтобы усилить исследование, не ограничивайтесь градиентным бустингом. Попробуйте более простые модели — иногда они работают лучше. Это редкие случаи, которые легко пропустить, если всегда применять только бустинг. Поэкспериментируйте и сравните характеристики моделей: скорость работы, точность результата.\n",
    "\n",
    "1. Загрузите и подготовьте данные.\n",
    "    - Импортируем библиотеки [тут](#step1.1)\n",
    "    - Загружаем данные [тут](#step1.2)\n",
    "    - Изучаем данные [тут](#step1.3)\n",
    "    - Смотрим на распределение данных [тут](#step1.4)\n",
    "    - Строим план предобработки [тут](#step1.5)\n",
    "<br/>\n",
    "\n",
    "\n",
    "2. Предобработка данных [тут](#step2)<br/>\n",
    "\n",
    "3. [Обучение моделей](#step3)\n",
    "    - CatBoost на непреобразованных данных [тут](#step3.1)\n",
    "    - One-Hot Encoding [тут](#step3.2)\n",
    "    - LightGBM [тут](#step3.3)\n",
    "        - GridSearchCV для LightGBM [тут](#step3.3.1)\n",
    "        - Обучение LightGBM [тут](#step3.3.2)\n",
    "    - LinearRegression [тут](#step3.4)\n",
    "    - CatBoost на преобразованных данных [тут](#step3.1)\n",
    "\n",
    "4. [Итоги.](#step4)"
   ]
  },
  {
   "cell_type": "markdown",
   "metadata": {},
   "source": [
    "## Описание данных\n",
    "\n",
    "Признаки:\n",
    "\n",
    "- DateCrawled — дата скачивания анкеты из базы\n",
    "- VehicleType — тип автомобильного кузова\n",
    "- RegistrationYear — год регистрации автомобиля\n",
    "- Gearbox — тип коробки передач\n",
    "- Power — мощность (л. с.)\n",
    "- Model — модель автомобиля\n",
    "- Kilometer — пробег (км)\n",
    "- RegistrationMonth — месяц регистрации автомобиля\n",
    "- FuelType — тип топлива\n",
    "- Brand — марка автомобиля\n",
    "- NotRepaired — была машина в ремонте или нет\n",
    "- DateCreated — дата создания анкеты\n",
    "- NumberOfPictures — количество фотографий автомобиля\n",
    "- PostalCode — почтовый индекс владельца анкеты (пользователя)\n",
    "- LastSeen — дата последней активности пользователя\n",
    "\n",
    "Целевой признак:\n",
    "- Price — цена (евро)"
   ]
  },
  {
   "cell_type": "markdown",
   "metadata": {},
   "source": [
    "#### Импортируем необходимые библиотеки<a id=\"step1.1\"></a>"
   ]
  },
  {
   "cell_type": "code",
   "execution_count": 1,
   "metadata": {},
   "outputs": [],
   "source": [
    "import pandas as pd\n",
    "import numpy as np\n",
    "import time\n",
    "from sklearn.linear_model import LinearRegression\n",
    "from sklearn.metrics import mean_squared_error\n",
    "import matplotlib.pyplot as plt\n",
    "pd.set_option('display.precision',3)"
   ]
  },
  {
   "cell_type": "code",
   "execution_count": 2,
   "metadata": {},
   "outputs": [],
   "source": [
    "import warnings\n",
    "warnings.filterwarnings('ignore')"
   ]
  },
  {
   "cell_type": "code",
   "execution_count": 3,
   "metadata": {},
   "outputs": [
    {
     "data": {
      "application/javascript": [
       "IPython.OutputArea.prototype._should_scroll = function(lines) {\n",
       "    return false;\n",
       "}\n"
      ],
      "text/plain": [
       "<IPython.core.display.Javascript object>"
      ]
     },
     "metadata": {},
     "output_type": "display_data"
    }
   ],
   "source": [
    "%%javascript\n",
    "IPython.OutputArea.prototype._should_scroll = function(lines) {\n",
    "    return false;\n",
    "}"
   ]
  },
  {
   "cell_type": "markdown",
   "metadata": {},
   "source": [
    "#### Загрузка данных<a id=\"step1.2\"></a>"
   ]
  },
  {
   "cell_type": "code",
   "execution_count": 4,
   "metadata": {},
   "outputs": [],
   "source": [
    "try:\n",
    "    \n",
    "    base = pd.read_csv(\n",
    "        'C:/Users/timur/Я.Практикум/Проекты/Data Science/finished/11.Предсказание цены автомобиля/autos.csv')\n",
    "    \n",
    "except:\n",
    "    \n",
    "    base = pd.read_csv('/datasets/autos.csv')"
   ]
  },
  {
   "cell_type": "markdown",
   "metadata": {},
   "source": [
    "#### Предпросмотр данных<a id=\"step1.3\"></a>"
   ]
  },
  {
   "cell_type": "code",
   "execution_count": 5,
   "metadata": {},
   "outputs": [
    {
     "data": {
      "text/html": [
       "<div>\n",
       "<style scoped>\n",
       "    .dataframe tbody tr th:only-of-type {\n",
       "        vertical-align: middle;\n",
       "    }\n",
       "\n",
       "    .dataframe tbody tr th {\n",
       "        vertical-align: top;\n",
       "    }\n",
       "\n",
       "    .dataframe thead th {\n",
       "        text-align: right;\n",
       "    }\n",
       "</style>\n",
       "<table border=\"1\" class=\"dataframe\">\n",
       "  <thead>\n",
       "    <tr style=\"text-align: right;\">\n",
       "      <th></th>\n",
       "      <th>DateCrawled</th>\n",
       "      <th>Price</th>\n",
       "      <th>VehicleType</th>\n",
       "      <th>RegistrationYear</th>\n",
       "      <th>Gearbox</th>\n",
       "      <th>Power</th>\n",
       "      <th>Model</th>\n",
       "      <th>Kilometer</th>\n",
       "      <th>RegistrationMonth</th>\n",
       "      <th>FuelType</th>\n",
       "      <th>Brand</th>\n",
       "      <th>NotRepaired</th>\n",
       "      <th>DateCreated</th>\n",
       "      <th>NumberOfPictures</th>\n",
       "      <th>PostalCode</th>\n",
       "      <th>LastSeen</th>\n",
       "    </tr>\n",
       "  </thead>\n",
       "  <tbody>\n",
       "    <tr>\n",
       "      <th>0</th>\n",
       "      <td>2016-03-24 11:52:17</td>\n",
       "      <td>480</td>\n",
       "      <td>NaN</td>\n",
       "      <td>1993</td>\n",
       "      <td>manual</td>\n",
       "      <td>0</td>\n",
       "      <td>golf</td>\n",
       "      <td>150000</td>\n",
       "      <td>0</td>\n",
       "      <td>petrol</td>\n",
       "      <td>volkswagen</td>\n",
       "      <td>NaN</td>\n",
       "      <td>2016-03-24 00:00:00</td>\n",
       "      <td>0</td>\n",
       "      <td>70435</td>\n",
       "      <td>2016-04-07 03:16:57</td>\n",
       "    </tr>\n",
       "    <tr>\n",
       "      <th>1</th>\n",
       "      <td>2016-03-24 10:58:45</td>\n",
       "      <td>18300</td>\n",
       "      <td>coupe</td>\n",
       "      <td>2011</td>\n",
       "      <td>manual</td>\n",
       "      <td>190</td>\n",
       "      <td>NaN</td>\n",
       "      <td>125000</td>\n",
       "      <td>5</td>\n",
       "      <td>gasoline</td>\n",
       "      <td>audi</td>\n",
       "      <td>yes</td>\n",
       "      <td>2016-03-24 00:00:00</td>\n",
       "      <td>0</td>\n",
       "      <td>66954</td>\n",
       "      <td>2016-04-07 01:46:50</td>\n",
       "    </tr>\n",
       "    <tr>\n",
       "      <th>2</th>\n",
       "      <td>2016-03-14 12:52:21</td>\n",
       "      <td>9800</td>\n",
       "      <td>suv</td>\n",
       "      <td>2004</td>\n",
       "      <td>auto</td>\n",
       "      <td>163</td>\n",
       "      <td>grand</td>\n",
       "      <td>125000</td>\n",
       "      <td>8</td>\n",
       "      <td>gasoline</td>\n",
       "      <td>jeep</td>\n",
       "      <td>NaN</td>\n",
       "      <td>2016-03-14 00:00:00</td>\n",
       "      <td>0</td>\n",
       "      <td>90480</td>\n",
       "      <td>2016-04-05 12:47:46</td>\n",
       "    </tr>\n",
       "    <tr>\n",
       "      <th>3</th>\n",
       "      <td>2016-03-17 16:54:04</td>\n",
       "      <td>1500</td>\n",
       "      <td>small</td>\n",
       "      <td>2001</td>\n",
       "      <td>manual</td>\n",
       "      <td>75</td>\n",
       "      <td>golf</td>\n",
       "      <td>150000</td>\n",
       "      <td>6</td>\n",
       "      <td>petrol</td>\n",
       "      <td>volkswagen</td>\n",
       "      <td>no</td>\n",
       "      <td>2016-03-17 00:00:00</td>\n",
       "      <td>0</td>\n",
       "      <td>91074</td>\n",
       "      <td>2016-03-17 17:40:17</td>\n",
       "    </tr>\n",
       "    <tr>\n",
       "      <th>4</th>\n",
       "      <td>2016-03-31 17:25:20</td>\n",
       "      <td>3600</td>\n",
       "      <td>small</td>\n",
       "      <td>2008</td>\n",
       "      <td>manual</td>\n",
       "      <td>69</td>\n",
       "      <td>fabia</td>\n",
       "      <td>90000</td>\n",
       "      <td>7</td>\n",
       "      <td>gasoline</td>\n",
       "      <td>skoda</td>\n",
       "      <td>no</td>\n",
       "      <td>2016-03-31 00:00:00</td>\n",
       "      <td>0</td>\n",
       "      <td>60437</td>\n",
       "      <td>2016-04-06 10:17:21</td>\n",
       "    </tr>\n",
       "    <tr>\n",
       "      <th>5</th>\n",
       "      <td>2016-04-04 17:36:23</td>\n",
       "      <td>650</td>\n",
       "      <td>sedan</td>\n",
       "      <td>1995</td>\n",
       "      <td>manual</td>\n",
       "      <td>102</td>\n",
       "      <td>3er</td>\n",
       "      <td>150000</td>\n",
       "      <td>10</td>\n",
       "      <td>petrol</td>\n",
       "      <td>bmw</td>\n",
       "      <td>yes</td>\n",
       "      <td>2016-04-04 00:00:00</td>\n",
       "      <td>0</td>\n",
       "      <td>33775</td>\n",
       "      <td>2016-04-06 19:17:07</td>\n",
       "    </tr>\n",
       "    <tr>\n",
       "      <th>6</th>\n",
       "      <td>2016-04-01 20:48:51</td>\n",
       "      <td>2200</td>\n",
       "      <td>convertible</td>\n",
       "      <td>2004</td>\n",
       "      <td>manual</td>\n",
       "      <td>109</td>\n",
       "      <td>2_reihe</td>\n",
       "      <td>150000</td>\n",
       "      <td>8</td>\n",
       "      <td>petrol</td>\n",
       "      <td>peugeot</td>\n",
       "      <td>no</td>\n",
       "      <td>2016-04-01 00:00:00</td>\n",
       "      <td>0</td>\n",
       "      <td>67112</td>\n",
       "      <td>2016-04-05 18:18:39</td>\n",
       "    </tr>\n",
       "    <tr>\n",
       "      <th>7</th>\n",
       "      <td>2016-03-21 18:54:38</td>\n",
       "      <td>0</td>\n",
       "      <td>sedan</td>\n",
       "      <td>1980</td>\n",
       "      <td>manual</td>\n",
       "      <td>50</td>\n",
       "      <td>other</td>\n",
       "      <td>40000</td>\n",
       "      <td>7</td>\n",
       "      <td>petrol</td>\n",
       "      <td>volkswagen</td>\n",
       "      <td>no</td>\n",
       "      <td>2016-03-21 00:00:00</td>\n",
       "      <td>0</td>\n",
       "      <td>19348</td>\n",
       "      <td>2016-03-25 16:47:58</td>\n",
       "    </tr>\n",
       "    <tr>\n",
       "      <th>8</th>\n",
       "      <td>2016-04-04 23:42:13</td>\n",
       "      <td>14500</td>\n",
       "      <td>bus</td>\n",
       "      <td>2014</td>\n",
       "      <td>manual</td>\n",
       "      <td>125</td>\n",
       "      <td>c_max</td>\n",
       "      <td>30000</td>\n",
       "      <td>8</td>\n",
       "      <td>petrol</td>\n",
       "      <td>ford</td>\n",
       "      <td>NaN</td>\n",
       "      <td>2016-04-04 00:00:00</td>\n",
       "      <td>0</td>\n",
       "      <td>94505</td>\n",
       "      <td>2016-04-04 23:42:13</td>\n",
       "    </tr>\n",
       "    <tr>\n",
       "      <th>9</th>\n",
       "      <td>2016-03-17 10:53:50</td>\n",
       "      <td>999</td>\n",
       "      <td>small</td>\n",
       "      <td>1998</td>\n",
       "      <td>manual</td>\n",
       "      <td>101</td>\n",
       "      <td>golf</td>\n",
       "      <td>150000</td>\n",
       "      <td>0</td>\n",
       "      <td>NaN</td>\n",
       "      <td>volkswagen</td>\n",
       "      <td>NaN</td>\n",
       "      <td>2016-03-17 00:00:00</td>\n",
       "      <td>0</td>\n",
       "      <td>27472</td>\n",
       "      <td>2016-03-31 17:17:06</td>\n",
       "    </tr>\n",
       "  </tbody>\n",
       "</table>\n",
       "</div>"
      ],
      "text/plain": [
       "           DateCrawled  Price  VehicleType  RegistrationYear Gearbox  Power  \\\n",
       "0  2016-03-24 11:52:17    480          NaN              1993  manual      0   \n",
       "1  2016-03-24 10:58:45  18300        coupe              2011  manual    190   \n",
       "2  2016-03-14 12:52:21   9800          suv              2004    auto    163   \n",
       "3  2016-03-17 16:54:04   1500        small              2001  manual     75   \n",
       "4  2016-03-31 17:25:20   3600        small              2008  manual     69   \n",
       "5  2016-04-04 17:36:23    650        sedan              1995  manual    102   \n",
       "6  2016-04-01 20:48:51   2200  convertible              2004  manual    109   \n",
       "7  2016-03-21 18:54:38      0        sedan              1980  manual     50   \n",
       "8  2016-04-04 23:42:13  14500          bus              2014  manual    125   \n",
       "9  2016-03-17 10:53:50    999        small              1998  manual    101   \n",
       "\n",
       "     Model  Kilometer  RegistrationMonth  FuelType       Brand NotRepaired  \\\n",
       "0     golf     150000                  0    petrol  volkswagen         NaN   \n",
       "1      NaN     125000                  5  gasoline        audi         yes   \n",
       "2    grand     125000                  8  gasoline        jeep         NaN   \n",
       "3     golf     150000                  6    petrol  volkswagen          no   \n",
       "4    fabia      90000                  7  gasoline       skoda          no   \n",
       "5      3er     150000                 10    petrol         bmw         yes   \n",
       "6  2_reihe     150000                  8    petrol     peugeot          no   \n",
       "7    other      40000                  7    petrol  volkswagen          no   \n",
       "8    c_max      30000                  8    petrol        ford         NaN   \n",
       "9     golf     150000                  0       NaN  volkswagen         NaN   \n",
       "\n",
       "           DateCreated  NumberOfPictures  PostalCode             LastSeen  \n",
       "0  2016-03-24 00:00:00                 0       70435  2016-04-07 03:16:57  \n",
       "1  2016-03-24 00:00:00                 0       66954  2016-04-07 01:46:50  \n",
       "2  2016-03-14 00:00:00                 0       90480  2016-04-05 12:47:46  \n",
       "3  2016-03-17 00:00:00                 0       91074  2016-03-17 17:40:17  \n",
       "4  2016-03-31 00:00:00                 0       60437  2016-04-06 10:17:21  \n",
       "5  2016-04-04 00:00:00                 0       33775  2016-04-06 19:17:07  \n",
       "6  2016-04-01 00:00:00                 0       67112  2016-04-05 18:18:39  \n",
       "7  2016-03-21 00:00:00                 0       19348  2016-03-25 16:47:58  \n",
       "8  2016-04-04 00:00:00                 0       94505  2016-04-04 23:42:13  \n",
       "9  2016-03-17 00:00:00                 0       27472  2016-03-31 17:17:06  "
      ]
     },
     "execution_count": 5,
     "metadata": {},
     "output_type": "execute_result"
    }
   ],
   "source": [
    "base.head(10)"
   ]
  },
  {
   "cell_type": "code",
   "execution_count": 6,
   "metadata": {},
   "outputs": [
    {
     "name": "stdout",
     "output_type": "stream",
     "text": [
      "<class 'pandas.core.frame.DataFrame'>\n",
      "RangeIndex: 354369 entries, 0 to 354368\n",
      "Data columns (total 16 columns):\n",
      " #   Column             Non-Null Count   Dtype \n",
      "---  ------             --------------   ----- \n",
      " 0   DateCrawled        354369 non-null  object\n",
      " 1   Price              354369 non-null  int64 \n",
      " 2   VehicleType        316879 non-null  object\n",
      " 3   RegistrationYear   354369 non-null  int64 \n",
      " 4   Gearbox            334536 non-null  object\n",
      " 5   Power              354369 non-null  int64 \n",
      " 6   Model              334664 non-null  object\n",
      " 7   Kilometer          354369 non-null  int64 \n",
      " 8   RegistrationMonth  354369 non-null  int64 \n",
      " 9   FuelType           321474 non-null  object\n",
      " 10  Brand              354369 non-null  object\n",
      " 11  NotRepaired        283215 non-null  object\n",
      " 12  DateCreated        354369 non-null  object\n",
      " 13  NumberOfPictures   354369 non-null  int64 \n",
      " 14  PostalCode         354369 non-null  int64 \n",
      " 15  LastSeen           354369 non-null  object\n",
      "dtypes: int64(7), object(9)\n",
      "memory usage: 43.3+ MB\n"
     ]
    }
   ],
   "source": [
    "base.info()"
   ]
  },
  {
   "cell_type": "markdown",
   "metadata": {},
   "source": [
    "Необходимо обработать признаки с типом object"
   ]
  },
  {
   "cell_type": "markdown",
   "metadata": {},
   "source": [
    "#### Пропуски"
   ]
  },
  {
   "cell_type": "code",
   "execution_count": 7,
   "metadata": {},
   "outputs": [
    {
     "data": {
      "text/plain": [
       "NotRepaired          0.201\n",
       "VehicleType          0.106\n",
       "FuelType             0.093\n",
       "Gearbox              0.056\n",
       "Model                0.056\n",
       "LastSeen             0.000\n",
       "PostalCode           0.000\n",
       "NumberOfPictures     0.000\n",
       "DateCreated          0.000\n",
       "Brand                0.000\n",
       "RegistrationMonth    0.000\n",
       "Kilometer            0.000\n",
       "Power                0.000\n",
       "RegistrationYear     0.000\n",
       "Price                0.000\n",
       "DateCrawled          0.000\n",
       "dtype: float64"
      ]
     },
     "execution_count": 7,
     "metadata": {},
     "output_type": "execute_result"
    }
   ],
   "source": [
    "base.isna().mean().sort_values(ascending=False)"
   ]
  },
  {
   "cell_type": "markdown",
   "metadata": {},
   "source": [
    "Дубликаты"
   ]
  },
  {
   "cell_type": "code",
   "execution_count": 8,
   "metadata": {},
   "outputs": [
    {
     "data": {
      "text/plain": [
       "4"
      ]
     },
     "execution_count": 8,
     "metadata": {},
     "output_type": "execute_result"
    }
   ],
   "source": [
    "base.duplicated().sum()"
   ]
  },
  {
   "cell_type": "code",
   "execution_count": 9,
   "metadata": {
    "scrolled": true
   },
   "outputs": [
    {
     "data": {
      "text/html": [
       "<div>\n",
       "<style scoped>\n",
       "    .dataframe tbody tr th:only-of-type {\n",
       "        vertical-align: middle;\n",
       "    }\n",
       "\n",
       "    .dataframe tbody tr th {\n",
       "        vertical-align: top;\n",
       "    }\n",
       "\n",
       "    .dataframe thead th {\n",
       "        text-align: right;\n",
       "    }\n",
       "</style>\n",
       "<table border=\"1\" class=\"dataframe\">\n",
       "  <thead>\n",
       "    <tr style=\"text-align: right;\">\n",
       "      <th></th>\n",
       "      <th>DateCrawled</th>\n",
       "      <th>Price</th>\n",
       "      <th>VehicleType</th>\n",
       "      <th>RegistrationYear</th>\n",
       "      <th>Gearbox</th>\n",
       "      <th>Power</th>\n",
       "      <th>Model</th>\n",
       "      <th>Kilometer</th>\n",
       "      <th>RegistrationMonth</th>\n",
       "      <th>FuelType</th>\n",
       "      <th>Brand</th>\n",
       "      <th>NotRepaired</th>\n",
       "      <th>DateCreated</th>\n",
       "      <th>NumberOfPictures</th>\n",
       "      <th>PostalCode</th>\n",
       "      <th>LastSeen</th>\n",
       "    </tr>\n",
       "  </thead>\n",
       "  <tbody>\n",
       "    <tr>\n",
       "      <th>171088</th>\n",
       "      <td>2016-03-08 18:42:48</td>\n",
       "      <td>1799</td>\n",
       "      <td>coupe</td>\n",
       "      <td>1999</td>\n",
       "      <td>auto</td>\n",
       "      <td>193</td>\n",
       "      <td>clk</td>\n",
       "      <td>20000</td>\n",
       "      <td>7</td>\n",
       "      <td>petrol</td>\n",
       "      <td>mercedes_benz</td>\n",
       "      <td>no</td>\n",
       "      <td>2016-03-08 00:00:00</td>\n",
       "      <td>0</td>\n",
       "      <td>89518</td>\n",
       "      <td>2016-03-09 09:46:57</td>\n",
       "    </tr>\n",
       "    <tr>\n",
       "      <th>231258</th>\n",
       "      <td>2016-03-28 00:56:10</td>\n",
       "      <td>1000</td>\n",
       "      <td>small</td>\n",
       "      <td>2002</td>\n",
       "      <td>manual</td>\n",
       "      <td>83</td>\n",
       "      <td>other</td>\n",
       "      <td>150000</td>\n",
       "      <td>1</td>\n",
       "      <td>petrol</td>\n",
       "      <td>suzuki</td>\n",
       "      <td>no</td>\n",
       "      <td>2016-03-28 00:00:00</td>\n",
       "      <td>0</td>\n",
       "      <td>66589</td>\n",
       "      <td>2016-03-28 08:46:21</td>\n",
       "    </tr>\n",
       "    <tr>\n",
       "      <th>258109</th>\n",
       "      <td>2016-04-03 09:01:15</td>\n",
       "      <td>4699</td>\n",
       "      <td>coupe</td>\n",
       "      <td>2003</td>\n",
       "      <td>auto</td>\n",
       "      <td>218</td>\n",
       "      <td>clk</td>\n",
       "      <td>125000</td>\n",
       "      <td>6</td>\n",
       "      <td>petrol</td>\n",
       "      <td>mercedes_benz</td>\n",
       "      <td>yes</td>\n",
       "      <td>2016-04-03 00:00:00</td>\n",
       "      <td>0</td>\n",
       "      <td>75196</td>\n",
       "      <td>2016-04-07 09:44:54</td>\n",
       "    </tr>\n",
       "    <tr>\n",
       "      <th>325651</th>\n",
       "      <td>2016-03-18 18:46:15</td>\n",
       "      <td>1999</td>\n",
       "      <td>wagon</td>\n",
       "      <td>2001</td>\n",
       "      <td>manual</td>\n",
       "      <td>131</td>\n",
       "      <td>passat</td>\n",
       "      <td>150000</td>\n",
       "      <td>7</td>\n",
       "      <td>gasoline</td>\n",
       "      <td>volkswagen</td>\n",
       "      <td>no</td>\n",
       "      <td>2016-03-18 00:00:00</td>\n",
       "      <td>0</td>\n",
       "      <td>36391</td>\n",
       "      <td>2016-03-18 18:46:15</td>\n",
       "    </tr>\n",
       "  </tbody>\n",
       "</table>\n",
       "</div>"
      ],
      "text/plain": [
       "                DateCrawled  Price VehicleType  RegistrationYear Gearbox  \\\n",
       "171088  2016-03-08 18:42:48   1799       coupe              1999    auto   \n",
       "231258  2016-03-28 00:56:10   1000       small              2002  manual   \n",
       "258109  2016-04-03 09:01:15   4699       coupe              2003    auto   \n",
       "325651  2016-03-18 18:46:15   1999       wagon              2001  manual   \n",
       "\n",
       "        Power   Model  Kilometer  RegistrationMonth  FuelType          Brand  \\\n",
       "171088    193     clk      20000                  7    petrol  mercedes_benz   \n",
       "231258     83   other     150000                  1    petrol         suzuki   \n",
       "258109    218     clk     125000                  6    petrol  mercedes_benz   \n",
       "325651    131  passat     150000                  7  gasoline     volkswagen   \n",
       "\n",
       "       NotRepaired          DateCreated  NumberOfPictures  PostalCode  \\\n",
       "171088          no  2016-03-08 00:00:00                 0       89518   \n",
       "231258          no  2016-03-28 00:00:00                 0       66589   \n",
       "258109         yes  2016-04-03 00:00:00                 0       75196   \n",
       "325651          no  2016-03-18 00:00:00                 0       36391   \n",
       "\n",
       "                   LastSeen  \n",
       "171088  2016-03-09 09:46:57  \n",
       "231258  2016-03-28 08:46:21  \n",
       "258109  2016-04-07 09:44:54  \n",
       "325651  2016-03-18 18:46:15  "
      ]
     },
     "execution_count": 9,
     "metadata": {},
     "output_type": "execute_result"
    }
   ],
   "source": [
    "base[base.duplicated()]"
   ]
  },
  {
   "cell_type": "markdown",
   "metadata": {},
   "source": [
    "Временной промежуток наблюдений"
   ]
  },
  {
   "cell_type": "code",
   "execution_count": 10,
   "metadata": {
    "scrolled": true
   },
   "outputs": [
    {
     "data": {
      "text/plain": [
       "'2014-03-10 00:00:00'"
      ]
     },
     "execution_count": 10,
     "metadata": {},
     "output_type": "execute_result"
    }
   ],
   "source": [
    "base['DateCreated'].min()"
   ]
  },
  {
   "cell_type": "code",
   "execution_count": 11,
   "metadata": {},
   "outputs": [
    {
     "data": {
      "text/plain": [
       "'2016-04-07 00:00:00'"
      ]
     },
     "execution_count": 11,
     "metadata": {},
     "output_type": "execute_result"
    }
   ],
   "source": [
    "base['DateCreated'].max()"
   ]
  },
  {
   "cell_type": "markdown",
   "metadata": {},
   "source": [
    "Корреляция"
   ]
  },
  {
   "cell_type": "code",
   "execution_count": 12,
   "metadata": {
    "scrolled": true
   },
   "outputs": [
    {
     "data": {
      "text/plain": [
       "Price                1.000\n",
       "Power                0.159\n",
       "RegistrationMonth    0.111\n",
       "PostalCode           0.076\n",
       "RegistrationYear     0.027\n",
       "Kilometer           -0.333\n",
       "NumberOfPictures       NaN\n",
       "Name: Price, dtype: float64"
      ]
     },
     "execution_count": 12,
     "metadata": {},
     "output_type": "execute_result"
    }
   ],
   "source": [
    "base.corr()['Price'].sort_values(ascending=False)"
   ]
  },
  {
   "cell_type": "markdown",
   "metadata": {},
   "source": [
    "#### Распределение данных <a id=\"step1.4\"></a>"
   ]
  },
  {
   "cell_type": "code",
   "execution_count": 13,
   "metadata": {
    "scrolled": false
   },
   "outputs": [
    {
     "name": "stdout",
     "output_type": "stream",
     "text": [
      "\n",
      "2016-03-24 14:49:47    7\n",
      "2016-03-26 22:57:31    6\n",
      "2016-03-19 21:49:56    6\n",
      "2016-04-01 19:25:23    5\n",
      "2016-03-19 12:50:39    5\n",
      "                      ..\n",
      "2016-03-22 19:36:24    1\n",
      "2016-03-28 16:52:53    1\n",
      "2016-03-29 15:36:45    1\n",
      "2016-03-12 17:38:58    1\n",
      "2016-03-31 17:53:58    1\n",
      "Name: DateCrawled, Length: 271174, dtype: int64\n",
      "\n",
      "\n",
      "0        10772\n",
      "500       5670\n",
      "1500      5394\n",
      "1000      4649\n",
      "1200      4594\n",
      "         ...  \n",
      "13440        1\n",
      "1414         1\n",
      "8069         1\n",
      "10370        1\n",
      "384          1\n",
      "Name: Price, Length: 3731, dtype: int64\n",
      "\n",
      "\n",
      "sedan          91457\n",
      "small          79831\n",
      "wagon          65166\n",
      "bus            28775\n",
      "convertible    20203\n",
      "coupe          16163\n",
      "suv            11996\n",
      "other           3288\n",
      "Name: VehicleType, dtype: int64\n",
      "\n",
      "\n",
      "2000    24490\n",
      "1999    22728\n",
      "2005    22109\n",
      "2001    20124\n",
      "2006    19900\n",
      "        ...  \n",
      "3200        1\n",
      "1920        1\n",
      "1919        1\n",
      "1915        1\n",
      "8455        1\n",
      "Name: RegistrationYear, Length: 151, dtype: int64\n",
      "\n",
      "\n",
      "manual    268251\n",
      "auto       66285\n",
      "Name: Gearbox, dtype: int64\n",
      "\n",
      "\n",
      "0        40225\n",
      "75       24023\n",
      "60       15897\n",
      "150      14590\n",
      "101      13298\n",
      "         ...  \n",
      "16311        1\n",
      "1360         1\n",
      "1968         1\n",
      "6226         1\n",
      "6006         1\n",
      "Name: Power, Length: 712, dtype: int64\n",
      "\n",
      "\n",
      "golf                  29232\n",
      "other                 24421\n",
      "3er                   19761\n",
      "polo                  13066\n",
      "corsa                 12570\n",
      "                      ...  \n",
      "serie_2                   8\n",
      "serie_3                   4\n",
      "rangerover                4\n",
      "range_rover_evoque        2\n",
      "serie_1                   2\n",
      "Name: Model, Length: 250, dtype: int64\n",
      "\n",
      "\n",
      "150000    238209\n",
      "125000     36454\n",
      "100000     14882\n",
      "90000      11567\n",
      "80000      10047\n",
      "70000       8593\n",
      "60000       7444\n",
      "5000        6397\n",
      "50000       6232\n",
      "40000       4911\n",
      "30000       4436\n",
      "20000       3975\n",
      "10000       1222\n",
      "Name: Kilometer, dtype: int64\n",
      "\n",
      "\n",
      "0     37352\n",
      "3     34373\n",
      "6     31508\n",
      "4     29270\n",
      "5     29153\n",
      "7     27213\n",
      "10    26099\n",
      "12    24289\n",
      "11    24186\n",
      "9     23813\n",
      "1     23219\n",
      "8     22627\n",
      "2     21267\n",
      "Name: RegistrationMonth, dtype: int64\n",
      "\n",
      "\n",
      "petrol      216352\n",
      "gasoline     98720\n",
      "lpg           5310\n",
      "cng            565\n",
      "hybrid         233\n",
      "other          204\n",
      "electric        90\n",
      "Name: FuelType, dtype: int64\n",
      "\n",
      "\n",
      "volkswagen        77013\n",
      "opel              39931\n",
      "bmw               36914\n",
      "mercedes_benz     32046\n",
      "audi              29456\n",
      "ford              25179\n",
      "renault           17927\n",
      "peugeot           10998\n",
      "fiat               9643\n",
      "seat               6907\n",
      "mazda              5615\n",
      "skoda              5500\n",
      "smart              5246\n",
      "citroen            5148\n",
      "nissan             4941\n",
      "toyota             4606\n",
      "hyundai            3587\n",
      "sonstige_autos     3374\n",
      "volvo              3210\n",
      "mini               3202\n",
      "mitsubishi         3022\n",
      "honda              2817\n",
      "kia                2465\n",
      "suzuki             2323\n",
      "alfa_romeo         2314\n",
      "chevrolet          1754\n",
      "chrysler           1439\n",
      "dacia               900\n",
      "daihatsu            806\n",
      "subaru              762\n",
      "porsche             758\n",
      "jeep                677\n",
      "trabant             589\n",
      "land_rover          545\n",
      "daewoo              542\n",
      "saab                526\n",
      "jaguar              505\n",
      "rover               486\n",
      "lancia              471\n",
      "lada                225\n",
      "Name: Brand, dtype: int64\n",
      "\n",
      "\n",
      "no     247161\n",
      "yes     36054\n",
      "Name: NotRepaired, dtype: int64\n",
      "\n",
      "\n",
      "2016-04-03 00:00:00    13719\n",
      "2016-04-04 00:00:00    13317\n",
      "2016-03-20 00:00:00    12918\n",
      "2016-03-12 00:00:00    12840\n",
      "2016-03-21 00:00:00    12691\n",
      "                       ...  \n",
      "2016-01-08 00:00:00        1\n",
      "2015-08-10 00:00:00        1\n",
      "2015-12-06 00:00:00        1\n",
      "2015-11-12 00:00:00        1\n",
      "2015-11-02 00:00:00        1\n",
      "Name: DateCreated, Length: 109, dtype: int64\n",
      "\n",
      "\n",
      "0    354369\n",
      "Name: NumberOfPictures, dtype: int64\n",
      "\n",
      "\n",
      "10115    819\n",
      "65428    613\n",
      "66333    343\n",
      "44145    317\n",
      "32257    317\n",
      "        ... \n",
      "6725       1\n",
      "6922       1\n",
      "85071      1\n",
      "97528      1\n",
      "63931      1\n",
      "Name: PostalCode, Length: 8143, dtype: int64\n",
      "\n",
      "\n",
      "2016-04-06 13:45:54    17\n",
      "2016-04-06 09:46:00    16\n",
      "2016-04-06 12:15:45    16\n",
      "2016-04-07 09:44:27    16\n",
      "2016-04-06 09:17:58    16\n",
      "                       ..\n",
      "2016-04-04 08:17:44     1\n",
      "2016-03-14 15:17:43     1\n",
      "2016-04-04 15:45:33     1\n",
      "2016-04-01 14:50:10     1\n",
      "2016-03-12 16:48:45     1\n",
      "Name: LastSeen, Length: 179150, dtype: int64\n",
      "\n"
     ]
    }
   ],
   "source": [
    "for i in base.columns:\n",
    "    print()\n",
    "    print(base[i].value_counts())\n",
    "    print()"
   ]
  },
  {
   "cell_type": "markdown",
   "metadata": {},
   "source": [
    "### Распределение количества автомобилей и цен"
   ]
  },
  {
   "cell_type": "code",
   "execution_count": 14,
   "metadata": {
    "scrolled": false
   },
   "outputs": [
    {
     "data": {
      "text/plain": [
       "<matplotlib.axes._subplots.AxesSubplot at 0x1a2a9f2e520>"
      ]
     },
     "execution_count": 14,
     "metadata": {},
     "output_type": "execute_result"
    },
    {
     "data": {
      "image/png": "[encoded data removed]",
      "text/plain": [
       "<Figure size 1440x720 with 1 Axes>"
      ]
     },
     "metadata": {
      "needs_background": "light"
     },
     "output_type": "display_data"
    }
   ],
   "source": [
    "plt.figure(figsize=(20,10))\n",
    "base['Price'].hist(bins=300)"
   ]
  },
  {
   "cell_type": "markdown",
   "metadata": {},
   "source": [
    "### Распределение количества автомобилей и мощности (мощность менее 500лс)"
   ]
  },
  {
   "cell_type": "code",
   "execution_count": 15,
   "metadata": {
    "scrolled": true
   },
   "outputs": [
    {
     "data": {
      "text/plain": [
       "<matplotlib.axes._subplots.AxesSubplot at 0x1a2aa2b2580>"
      ]
     },
     "execution_count": 15,
     "metadata": {},
     "output_type": "execute_result"
    },
    {
     "data": {
      "image/png": "[encoded data removed]",
      "text/plain": [
       "<Figure size 1440x720 with 1 Axes>"
      ]
     },
     "metadata": {
      "needs_background": "light"
     },
     "output_type": "display_data"
    }
   ],
   "source": [
    "plt.figure(figsize=(20,10))\n",
    "base[base['Power'] < 500]['Power'].hist(bins=300)"
   ]
  },
  {
   "cell_type": "markdown",
   "metadata": {},
   "source": [
    "### Распределение количества автомобилей и моделей"
   ]
  },
  {
   "cell_type": "code",
   "execution_count": 16,
   "metadata": {
    "scrolled": false
   },
   "outputs": [
    {
     "data": {
      "text/plain": [
       "<matplotlib.axes._subplots.AxesSubplot at 0x1a2aa850550>"
      ]
     },
     "execution_count": 16,
     "metadata": {},
     "output_type": "execute_result"
    },
    {
     "data": {
      "image/png": "[encoded data removed]",
      "text/plain": [
       "<Figure size 1440x720 with 1 Axes>"
      ]
     },
     "metadata": {
      "needs_background": "light"
     },
     "output_type": "display_data"
    }
   ],
   "source": [
    "plt.figure(figsize=(20,10))\n",
    "base['Model'].hist(bins=300)"
   ]
  },
  {
   "cell_type": "markdown",
   "metadata": {},
   "source": [
    "Итоги первичного осмотра пациента: <a id=\"step1.5\"></a>\n",
    "1. 'DateCrawled' - фича не содержащая какой-то полезной интформации, удалим полностью;\n",
    "- 'Price' - 10772 пустых значений в целевом признаке, эти объекты удалим; кроме того, много объектов цена в которых 0-100$, такие объекты тоже нужно удалить;\n",
    "- 'VehicleType' - много пропусков; категориальный признак, имеет тип object, нужно применить OHE;  \n",
    "- 'RegistrationYear' - наличие выбросов, нужно ограничить период;\n",
    "- 'Gearbox' - пропуски; категориальный признак, имеет тип object, нужно применить OHE;\n",
    "- 'Power' - наличие выбросов, нужно выбрать потолок мощности; кроме того, много нулевых значений;\n",
    "- 'Model' - много выбросов, предложить заказчику сделать поле на сервисе категориальным, чтобы пользователи не писали ерунду; можно лемматизировать, но трудозатратно;\n",
    "- 'Kilometer' - никаких претензий;\n",
    "- 'RegistrationMonth' - есть нулевой месяц, но это не должно как-то сильно повлиять;\n",
    "- 'FuelType' - есть пропуски, можно попробовать залить бензином, либо оставить без изменений; признак категориальный, нужно поменять тип и применить OHE;\n",
    "- 'Brand' - никаких претензий;\n",
    "- 'NotRepaired' - много пропусков, нужно сравнить 2 варианта: заменить на 'no', либо выделить в отдельную категорию; ну и заменить 'no' на 0, а 'yes' на 1, можно и без OHE;\n",
    "- 'DateCreated' - фича выглядит бесполезной, удалим;\n",
    "- 'NumberOfPictures' - признак полностью состоит из нулей, удалим столбец целиком;\n",
    "- 'PostalCode' - кажется бесполезным, да и с выбросами; сравним показатели с этим признаком и без него, если окажется полезным - можно попробовать предобработать;\n",
    "- 'LastSeen' - непонятно, какую пользу модель может получить из этой информации; удалим признак;"
   ]
  },
  {
   "cell_type": "markdown",
   "metadata": {},
   "source": [
    "### Предобработка данных <a id=\"step2\"></a>"
   ]
  },
  {
   "cell_type": "markdown",
   "metadata": {},
   "source": [
    "Соберем рабочий датафрейм, без следующих признаков: DateCrawled, NumberOfPictures, LastSeen, PostalCode, DateCreated."
   ]
  },
  {
   "cell_type": "code",
   "execution_count": 17,
   "metadata": {
    "scrolled": false
   },
   "outputs": [
    {
     "data": {
      "text/html": [
       "<div>\n",
       "<style scoped>\n",
       "    .dataframe tbody tr th:only-of-type {\n",
       "        vertical-align: middle;\n",
       "    }\n",
       "\n",
       "    .dataframe tbody tr th {\n",
       "        vertical-align: top;\n",
       "    }\n",
       "\n",
       "    .dataframe thead th {\n",
       "        text-align: right;\n",
       "    }\n",
       "</style>\n",
       "<table border=\"1\" class=\"dataframe\">\n",
       "  <thead>\n",
       "    <tr style=\"text-align: right;\">\n",
       "      <th></th>\n",
       "      <th>DateCrawled</th>\n",
       "      <th>Price</th>\n",
       "      <th>VehicleType</th>\n",
       "      <th>RegistrationYear</th>\n",
       "      <th>Gearbox</th>\n",
       "      <th>Power</th>\n",
       "      <th>Model</th>\n",
       "      <th>Kilometer</th>\n",
       "      <th>RegistrationMonth</th>\n",
       "      <th>FuelType</th>\n",
       "      <th>Brand</th>\n",
       "      <th>NotRepaired</th>\n",
       "      <th>DateCreated</th>\n",
       "      <th>NumberOfPictures</th>\n",
       "      <th>PostalCode</th>\n",
       "      <th>LastSeen</th>\n",
       "    </tr>\n",
       "  </thead>\n",
       "  <tbody>\n",
       "    <tr>\n",
       "      <th>14</th>\n",
       "      <td>2016-03-21 12:57:01</td>\n",
       "      <td>17999</td>\n",
       "      <td>suv</td>\n",
       "      <td>2011</td>\n",
       "      <td>manual</td>\n",
       "      <td>190</td>\n",
       "      <td>navara</td>\n",
       "      <td>70000</td>\n",
       "      <td>3</td>\n",
       "      <td>gasoline</td>\n",
       "      <td>nissan</td>\n",
       "      <td>no</td>\n",
       "      <td>2016-03-21 00:00:00</td>\n",
       "      <td>0</td>\n",
       "      <td>4177</td>\n",
       "      <td>2016-04-06 07:45:42</td>\n",
       "    </tr>\n",
       "    <tr>\n",
       "      <th>23</th>\n",
       "      <td>2016-03-12 19:43:07</td>\n",
       "      <td>450</td>\n",
       "      <td>small</td>\n",
       "      <td>1997</td>\n",
       "      <td>manual</td>\n",
       "      <td>50</td>\n",
       "      <td>arosa</td>\n",
       "      <td>150000</td>\n",
       "      <td>5</td>\n",
       "      <td>petrol</td>\n",
       "      <td>seat</td>\n",
       "      <td>no</td>\n",
       "      <td>2016-03-12 00:00:00</td>\n",
       "      <td>0</td>\n",
       "      <td>9526</td>\n",
       "      <td>2016-03-21 01:46:11</td>\n",
       "    </tr>\n",
       "    <tr>\n",
       "      <th>36</th>\n",
       "      <td>2016-03-11 11:50:37</td>\n",
       "      <td>1600</td>\n",
       "      <td>other</td>\n",
       "      <td>1991</td>\n",
       "      <td>manual</td>\n",
       "      <td>75</td>\n",
       "      <td>kadett</td>\n",
       "      <td>70000</td>\n",
       "      <td>0</td>\n",
       "      <td>NaN</td>\n",
       "      <td>opel</td>\n",
       "      <td>NaN</td>\n",
       "      <td>2016-03-11 00:00:00</td>\n",
       "      <td>0</td>\n",
       "      <td>2943</td>\n",
       "      <td>2016-04-07 03:46:09</td>\n",
       "    </tr>\n",
       "    <tr>\n",
       "      <th>63</th>\n",
       "      <td>2016-03-08 12:54:47</td>\n",
       "      <td>7000</td>\n",
       "      <td>sedan</td>\n",
       "      <td>2006</td>\n",
       "      <td>auto</td>\n",
       "      <td>105</td>\n",
       "      <td>jetta</td>\n",
       "      <td>100000</td>\n",
       "      <td>10</td>\n",
       "      <td>gasoline</td>\n",
       "      <td>volkswagen</td>\n",
       "      <td>no</td>\n",
       "      <td>2016-03-08 00:00:00</td>\n",
       "      <td>0</td>\n",
       "      <td>6242</td>\n",
       "      <td>2016-03-11 17:16:18</td>\n",
       "    </tr>\n",
       "    <tr>\n",
       "      <th>64</th>\n",
       "      <td>2016-03-07 22:36:54</td>\n",
       "      <td>14999</td>\n",
       "      <td>convertible</td>\n",
       "      <td>2007</td>\n",
       "      <td>manual</td>\n",
       "      <td>218</td>\n",
       "      <td>3er</td>\n",
       "      <td>50000</td>\n",
       "      <td>8</td>\n",
       "      <td>petrol</td>\n",
       "      <td>bmw</td>\n",
       "      <td>no</td>\n",
       "      <td>2016-03-07 00:00:00</td>\n",
       "      <td>0</td>\n",
       "      <td>1129</td>\n",
       "      <td>2016-03-15 10:17:59</td>\n",
       "    </tr>\n",
       "    <tr>\n",
       "      <th>...</th>\n",
       "      <td>...</td>\n",
       "      <td>...</td>\n",
       "      <td>...</td>\n",
       "      <td>...</td>\n",
       "      <td>...</td>\n",
       "      <td>...</td>\n",
       "      <td>...</td>\n",
       "      <td>...</td>\n",
       "      <td>...</td>\n",
       "      <td>...</td>\n",
       "      <td>...</td>\n",
       "      <td>...</td>\n",
       "      <td>...</td>\n",
       "      <td>...</td>\n",
       "      <td>...</td>\n",
       "      <td>...</td>\n",
       "    </tr>\n",
       "    <tr>\n",
       "      <th>354311</th>\n",
       "      <td>2016-03-08 20:43:20</td>\n",
       "      <td>3000</td>\n",
       "      <td>sedan</td>\n",
       "      <td>2006</td>\n",
       "      <td>manual</td>\n",
       "      <td>105</td>\n",
       "      <td>golf</td>\n",
       "      <td>150000</td>\n",
       "      <td>6</td>\n",
       "      <td>gasoline</td>\n",
       "      <td>volkswagen</td>\n",
       "      <td>no</td>\n",
       "      <td>2016-03-08 00:00:00</td>\n",
       "      <td>0</td>\n",
       "      <td>1217</td>\n",
       "      <td>2016-03-08 20:43:20</td>\n",
       "    </tr>\n",
       "    <tr>\n",
       "      <th>354337</th>\n",
       "      <td>2016-03-26 14:38:18</td>\n",
       "      <td>11500</td>\n",
       "      <td>sedan</td>\n",
       "      <td>2004</td>\n",
       "      <td>auto</td>\n",
       "      <td>445</td>\n",
       "      <td>7er</td>\n",
       "      <td>125000</td>\n",
       "      <td>0</td>\n",
       "      <td>petrol</td>\n",
       "      <td>bmw</td>\n",
       "      <td>NaN</td>\n",
       "      <td>2016-03-26 00:00:00</td>\n",
       "      <td>0</td>\n",
       "      <td>4107</td>\n",
       "      <td>2016-04-06 20:45:16</td>\n",
       "    </tr>\n",
       "    <tr>\n",
       "      <th>354348</th>\n",
       "      <td>2016-03-20 18:47:59</td>\n",
       "      <td>5900</td>\n",
       "      <td>sedan</td>\n",
       "      <td>2006</td>\n",
       "      <td>manual</td>\n",
       "      <td>105</td>\n",
       "      <td>golf</td>\n",
       "      <td>150000</td>\n",
       "      <td>9</td>\n",
       "      <td>gasoline</td>\n",
       "      <td>volkswagen</td>\n",
       "      <td>no</td>\n",
       "      <td>2016-03-20 00:00:00</td>\n",
       "      <td>0</td>\n",
       "      <td>1217</td>\n",
       "      <td>2016-04-07 02:44:27</td>\n",
       "    </tr>\n",
       "    <tr>\n",
       "      <th>354353</th>\n",
       "      <td>2016-03-31 18:50:37</td>\n",
       "      <td>1999</td>\n",
       "      <td>sedan</td>\n",
       "      <td>1997</td>\n",
       "      <td>manual</td>\n",
       "      <td>150</td>\n",
       "      <td>a3</td>\n",
       "      <td>150000</td>\n",
       "      <td>12</td>\n",
       "      <td>petrol</td>\n",
       "      <td>audi</td>\n",
       "      <td>no</td>\n",
       "      <td>2016-03-31 00:00:00</td>\n",
       "      <td>0</td>\n",
       "      <td>4275</td>\n",
       "      <td>2016-04-06 12:46:41</td>\n",
       "    </tr>\n",
       "    <tr>\n",
       "      <th>354364</th>\n",
       "      <td>2016-03-21 09:50:58</td>\n",
       "      <td>0</td>\n",
       "      <td>NaN</td>\n",
       "      <td>2005</td>\n",
       "      <td>manual</td>\n",
       "      <td>0</td>\n",
       "      <td>colt</td>\n",
       "      <td>150000</td>\n",
       "      <td>7</td>\n",
       "      <td>petrol</td>\n",
       "      <td>mitsubishi</td>\n",
       "      <td>yes</td>\n",
       "      <td>2016-03-21 00:00:00</td>\n",
       "      <td>0</td>\n",
       "      <td>2694</td>\n",
       "      <td>2016-03-21 10:42:49</td>\n",
       "    </tr>\n",
       "  </tbody>\n",
       "</table>\n",
       "<p>18159 rows × 16 columns</p>\n",
       "</div>"
      ],
      "text/plain": [
       "                DateCrawled  Price  VehicleType  RegistrationYear Gearbox  \\\n",
       "14      2016-03-21 12:57:01  17999          suv              2011  manual   \n",
       "23      2016-03-12 19:43:07    450        small              1997  manual   \n",
       "36      2016-03-11 11:50:37   1600        other              1991  manual   \n",
       "63      2016-03-08 12:54:47   7000        sedan              2006    auto   \n",
       "64      2016-03-07 22:36:54  14999  convertible              2007  manual   \n",
       "...                     ...    ...          ...               ...     ...   \n",
       "354311  2016-03-08 20:43:20   3000        sedan              2006  manual   \n",
       "354337  2016-03-26 14:38:18  11500        sedan              2004    auto   \n",
       "354348  2016-03-20 18:47:59   5900        sedan              2006  manual   \n",
       "354353  2016-03-31 18:50:37   1999        sedan              1997  manual   \n",
       "354364  2016-03-21 09:50:58      0          NaN              2005  manual   \n",
       "\n",
       "        Power   Model  Kilometer  RegistrationMonth  FuelType       Brand  \\\n",
       "14        190  navara      70000                  3  gasoline      nissan   \n",
       "23         50   arosa     150000                  5    petrol        seat   \n",
       "36         75  kadett      70000                  0       NaN        opel   \n",
       "63        105   jetta     100000                 10  gasoline  volkswagen   \n",
       "64        218     3er      50000                  8    petrol         bmw   \n",
       "...       ...     ...        ...                ...       ...         ...   \n",
       "354311    105    golf     150000                  6  gasoline  volkswagen   \n",
       "354337    445     7er     125000                  0    petrol         bmw   \n",
       "354348    105    golf     150000                  9  gasoline  volkswagen   \n",
       "354353    150      a3     150000                 12    petrol        audi   \n",
       "354364      0    colt     150000                  7    petrol  mitsubishi   \n",
       "\n",
       "       NotRepaired          DateCreated  NumberOfPictures  PostalCode  \\\n",
       "14              no  2016-03-21 00:00:00                 0        4177   \n",
       "23              no  2016-03-12 00:00:00                 0        9526   \n",
       "36             NaN  2016-03-11 00:00:00                 0        2943   \n",
       "63              no  2016-03-08 00:00:00                 0        6242   \n",
       "64              no  2016-03-07 00:00:00                 0        1129   \n",
       "...            ...                  ...               ...         ...   \n",
       "354311          no  2016-03-08 00:00:00                 0        1217   \n",
       "354337         NaN  2016-03-26 00:00:00                 0        4107   \n",
       "354348          no  2016-03-20 00:00:00                 0        1217   \n",
       "354353          no  2016-03-31 00:00:00                 0        4275   \n",
       "354364         yes  2016-03-21 00:00:00                 0        2694   \n",
       "\n",
       "                   LastSeen  \n",
       "14      2016-04-06 07:45:42  \n",
       "23      2016-03-21 01:46:11  \n",
       "36      2016-04-07 03:46:09  \n",
       "63      2016-03-11 17:16:18  \n",
       "64      2016-03-15 10:17:59  \n",
       "...                     ...  \n",
       "354311  2016-03-08 20:43:20  \n",
       "354337  2016-04-06 20:45:16  \n",
       "354348  2016-04-07 02:44:27  \n",
       "354353  2016-04-06 12:46:41  \n",
       "354364  2016-03-21 10:42:49  \n",
       "\n",
       "[18159 rows x 16 columns]"
      ]
     },
     "execution_count": 17,
     "metadata": {},
     "output_type": "execute_result"
    }
   ],
   "source": [
    "base[base['PostalCode']<10000]"
   ]
  },
  {
   "cell_type": "code",
   "execution_count": 18,
   "metadata": {
    "scrolled": false
   },
   "outputs": [
    {
     "data": {
      "text/plain": [
       "Index(['DateCrawled', 'Price', 'VehicleType', 'RegistrationYear', 'Gearbox',\n",
       "       'Power', 'Model', 'Kilometer', 'RegistrationMonth', 'FuelType', 'Brand',\n",
       "       'NotRepaired', 'DateCreated', 'NumberOfPictures', 'PostalCode',\n",
       "       'LastSeen'],\n",
       "      dtype='object')"
      ]
     },
     "execution_count": 18,
     "metadata": {},
     "output_type": "execute_result"
    }
   ],
   "source": [
    "base.columns"
   ]
  },
  {
   "cell_type": "code",
   "execution_count": 19,
   "metadata": {},
   "outputs": [],
   "source": [
    "df = base[['Price', 'VehicleType', 'RegistrationYear', 'Gearbox',\n",
    "       'Power', 'Model', 'Kilometer', 'RegistrationMonth', 'FuelType', 'Brand',\n",
    "       'NotRepaired']]"
   ]
  },
  {
   "cell_type": "markdown",
   "metadata": {},
   "source": [
    "Удалим объекты в которых целевой признак менее 100 долларов. "
   ]
  },
  {
   "cell_type": "code",
   "execution_count": 20,
   "metadata": {},
   "outputs": [],
   "source": [
    "df = df[df['Price']>=100]"
   ]
  },
  {
   "cell_type": "code",
   "execution_count": 21,
   "metadata": {},
   "outputs": [
    {
     "data": {
      "text/html": [
       "<div>\n",
       "<style scoped>\n",
       "    .dataframe tbody tr th:only-of-type {\n",
       "        vertical-align: middle;\n",
       "    }\n",
       "\n",
       "    .dataframe tbody tr th {\n",
       "        vertical-align: top;\n",
       "    }\n",
       "\n",
       "    .dataframe thead th {\n",
       "        text-align: right;\n",
       "    }\n",
       "</style>\n",
       "<table border=\"1\" class=\"dataframe\">\n",
       "  <thead>\n",
       "    <tr style=\"text-align: right;\">\n",
       "      <th></th>\n",
       "      <th>Price</th>\n",
       "      <th>VehicleType</th>\n",
       "      <th>RegistrationYear</th>\n",
       "      <th>Gearbox</th>\n",
       "      <th>Power</th>\n",
       "      <th>Model</th>\n",
       "      <th>Kilometer</th>\n",
       "      <th>RegistrationMonth</th>\n",
       "      <th>FuelType</th>\n",
       "      <th>Brand</th>\n",
       "      <th>NotRepaired</th>\n",
       "    </tr>\n",
       "  </thead>\n",
       "  <tbody>\n",
       "    <tr>\n",
       "      <th>0</th>\n",
       "      <td>480</td>\n",
       "      <td>NaN</td>\n",
       "      <td>1993</td>\n",
       "      <td>manual</td>\n",
       "      <td>0</td>\n",
       "      <td>golf</td>\n",
       "      <td>150000</td>\n",
       "      <td>0</td>\n",
       "      <td>petrol</td>\n",
       "      <td>volkswagen</td>\n",
       "      <td>NaN</td>\n",
       "    </tr>\n",
       "    <tr>\n",
       "      <th>1</th>\n",
       "      <td>18300</td>\n",
       "      <td>coupe</td>\n",
       "      <td>2011</td>\n",
       "      <td>manual</td>\n",
       "      <td>190</td>\n",
       "      <td>NaN</td>\n",
       "      <td>125000</td>\n",
       "      <td>5</td>\n",
       "      <td>gasoline</td>\n",
       "      <td>audi</td>\n",
       "      <td>yes</td>\n",
       "    </tr>\n",
       "    <tr>\n",
       "      <th>2</th>\n",
       "      <td>9800</td>\n",
       "      <td>suv</td>\n",
       "      <td>2004</td>\n",
       "      <td>auto</td>\n",
       "      <td>163</td>\n",
       "      <td>grand</td>\n",
       "      <td>125000</td>\n",
       "      <td>8</td>\n",
       "      <td>gasoline</td>\n",
       "      <td>jeep</td>\n",
       "      <td>NaN</td>\n",
       "    </tr>\n",
       "    <tr>\n",
       "      <th>3</th>\n",
       "      <td>1500</td>\n",
       "      <td>small</td>\n",
       "      <td>2001</td>\n",
       "      <td>manual</td>\n",
       "      <td>75</td>\n",
       "      <td>golf</td>\n",
       "      <td>150000</td>\n",
       "      <td>6</td>\n",
       "      <td>petrol</td>\n",
       "      <td>volkswagen</td>\n",
       "      <td>no</td>\n",
       "    </tr>\n",
       "    <tr>\n",
       "      <th>4</th>\n",
       "      <td>3600</td>\n",
       "      <td>small</td>\n",
       "      <td>2008</td>\n",
       "      <td>manual</td>\n",
       "      <td>69</td>\n",
       "      <td>fabia</td>\n",
       "      <td>90000</td>\n",
       "      <td>7</td>\n",
       "      <td>gasoline</td>\n",
       "      <td>skoda</td>\n",
       "      <td>no</td>\n",
       "    </tr>\n",
       "    <tr>\n",
       "      <th>...</th>\n",
       "      <td>...</td>\n",
       "      <td>...</td>\n",
       "      <td>...</td>\n",
       "      <td>...</td>\n",
       "      <td>...</td>\n",
       "      <td>...</td>\n",
       "      <td>...</td>\n",
       "      <td>...</td>\n",
       "      <td>...</td>\n",
       "      <td>...</td>\n",
       "      <td>...</td>\n",
       "    </tr>\n",
       "    <tr>\n",
       "      <th>354363</th>\n",
       "      <td>1150</td>\n",
       "      <td>bus</td>\n",
       "      <td>2000</td>\n",
       "      <td>manual</td>\n",
       "      <td>0</td>\n",
       "      <td>zafira</td>\n",
       "      <td>150000</td>\n",
       "      <td>3</td>\n",
       "      <td>petrol</td>\n",
       "      <td>opel</td>\n",
       "      <td>no</td>\n",
       "    </tr>\n",
       "    <tr>\n",
       "      <th>354365</th>\n",
       "      <td>2200</td>\n",
       "      <td>NaN</td>\n",
       "      <td>2005</td>\n",
       "      <td>NaN</td>\n",
       "      <td>0</td>\n",
       "      <td>NaN</td>\n",
       "      <td>20000</td>\n",
       "      <td>1</td>\n",
       "      <td>NaN</td>\n",
       "      <td>sonstige_autos</td>\n",
       "      <td>NaN</td>\n",
       "    </tr>\n",
       "    <tr>\n",
       "      <th>354366</th>\n",
       "      <td>1199</td>\n",
       "      <td>convertible</td>\n",
       "      <td>2000</td>\n",
       "      <td>auto</td>\n",
       "      <td>101</td>\n",
       "      <td>fortwo</td>\n",
       "      <td>125000</td>\n",
       "      <td>3</td>\n",
       "      <td>petrol</td>\n",
       "      <td>smart</td>\n",
       "      <td>no</td>\n",
       "    </tr>\n",
       "    <tr>\n",
       "      <th>354367</th>\n",
       "      <td>9200</td>\n",
       "      <td>bus</td>\n",
       "      <td>1996</td>\n",
       "      <td>manual</td>\n",
       "      <td>102</td>\n",
       "      <td>transporter</td>\n",
       "      <td>150000</td>\n",
       "      <td>3</td>\n",
       "      <td>gasoline</td>\n",
       "      <td>volkswagen</td>\n",
       "      <td>no</td>\n",
       "    </tr>\n",
       "    <tr>\n",
       "      <th>354368</th>\n",
       "      <td>3400</td>\n",
       "      <td>wagon</td>\n",
       "      <td>2002</td>\n",
       "      <td>manual</td>\n",
       "      <td>100</td>\n",
       "      <td>golf</td>\n",
       "      <td>150000</td>\n",
       "      <td>6</td>\n",
       "      <td>gasoline</td>\n",
       "      <td>volkswagen</td>\n",
       "      <td>NaN</td>\n",
       "    </tr>\n",
       "  </tbody>\n",
       "</table>\n",
       "<p>341055 rows × 11 columns</p>\n",
       "</div>"
      ],
      "text/plain": [
       "        Price  VehicleType  RegistrationYear Gearbox  Power        Model  \\\n",
       "0         480          NaN              1993  manual      0         golf   \n",
       "1       18300        coupe              2011  manual    190          NaN   \n",
       "2        9800          suv              2004    auto    163        grand   \n",
       "3        1500        small              2001  manual     75         golf   \n",
       "4        3600        small              2008  manual     69        fabia   \n",
       "...       ...          ...               ...     ...    ...          ...   \n",
       "354363   1150          bus              2000  manual      0       zafira   \n",
       "354365   2200          NaN              2005     NaN      0          NaN   \n",
       "354366   1199  convertible              2000    auto    101       fortwo   \n",
       "354367   9200          bus              1996  manual    102  transporter   \n",
       "354368   3400        wagon              2002  manual    100         golf   \n",
       "\n",
       "        Kilometer  RegistrationMonth  FuelType           Brand NotRepaired  \n",
       "0          150000                  0    petrol      volkswagen         NaN  \n",
       "1          125000                  5  gasoline            audi         yes  \n",
       "2          125000                  8  gasoline            jeep         NaN  \n",
       "3          150000                  6    petrol      volkswagen          no  \n",
       "4           90000                  7  gasoline           skoda          no  \n",
       "...           ...                ...       ...             ...         ...  \n",
       "354363     150000                  3    petrol            opel          no  \n",
       "354365      20000                  1       NaN  sonstige_autos         NaN  \n",
       "354366     125000                  3    petrol           smart          no  \n",
       "354367     150000                  3  gasoline      volkswagen          no  \n",
       "354368     150000                  6  gasoline      volkswagen         NaN  \n",
       "\n",
       "[341055 rows x 11 columns]"
      ]
     },
     "execution_count": 21,
     "metadata": {},
     "output_type": "execute_result"
    }
   ],
   "source": [
    "df"
   ]
  },
  {
   "cell_type": "markdown",
   "metadata": {},
   "source": [
    "Предже чем применять метод OHE нужно разобраться с пропусками в категориальных переменных, иначе NaN'ы сольются с первой колонкой после drop_first"
   ]
  },
  {
   "cell_type": "markdown",
   "metadata": {},
   "source": [
    "В столбце VehicleType заменим отсутствующие значения на unknown."
   ]
  },
  {
   "cell_type": "code",
   "execution_count": 22,
   "metadata": {
    "scrolled": false
   },
   "outputs": [
    {
     "data": {
      "text/plain": [
       "sedan          89087\n",
       "small          77444\n",
       "wagon          63465\n",
       "bus            28265\n",
       "convertible    19817\n",
       "coupe          15555\n",
       "suv            11762\n",
       "other           3048\n",
       "Name: VehicleType, dtype: int64"
      ]
     },
     "execution_count": 22,
     "metadata": {},
     "output_type": "execute_result"
    }
   ],
   "source": [
    "df['VehicleType'].value_counts()"
   ]
  },
  {
   "cell_type": "code",
   "execution_count": 23,
   "metadata": {},
   "outputs": [],
   "source": [
    "df['VehicleType'] = df['VehicleType'].fillna(value='unknown')"
   ]
  },
  {
   "cell_type": "code",
   "execution_count": 24,
   "metadata": {
    "scrolled": true
   },
   "outputs": [
    {
     "data": {
      "text/plain": [
       "0"
      ]
     },
     "execution_count": 24,
     "metadata": {},
     "output_type": "execute_result"
    }
   ],
   "source": [
    "df['VehicleType'].isna().sum()"
   ]
  },
  {
   "cell_type": "markdown",
   "metadata": {},
   "source": [
    "Таргет ограничим сотней долларов, меньше - выбросы и NaN'ы"
   ]
  },
  {
   "cell_type": "code",
   "execution_count": 25,
   "metadata": {
    "scrolled": true
   },
   "outputs": [],
   "source": [
    "df = df[df['Price']>=100]"
   ]
  },
  {
   "cell_type": "markdown",
   "metadata": {},
   "source": [
    "Посмотрим, сколько потеряем объектов, если ограничим год выпуска автомобилей премежутком 1970 - 2016.\n",
    "\n",
    "Экземпляры старше - уже настоящий раритет, сильно зависят от состояния, труднопрогнозируемы.\n",
    "\n",
    "Моложе - выбросы, ведь дата последней публикации - 2016-04-07 00:00:00."
   ]
  },
  {
   "cell_type": "code",
   "execution_count": 26,
   "metadata": {
    "scrolled": true
   },
   "outputs": [
    {
     "data": {
      "text/plain": [
       "0.04340355661110373"
      ]
     },
     "execution_count": 26,
     "metadata": {},
     "output_type": "execute_result"
    }
   ],
   "source": [
    "1 - len(df[(df['RegistrationYear']>=1970) & (df['RegistrationYear']<=2016)]) / len(df)"
   ]
  },
  {
   "cell_type": "markdown",
   "metadata": {},
   "source": [
    "4%, не такая большая плата, учитывая, что данных много."
   ]
  },
  {
   "cell_type": "code",
   "execution_count": 27,
   "metadata": {},
   "outputs": [],
   "source": [
    "df = df[(df['RegistrationYear']>=1970) & (df['RegistrationYear']<=2016)]"
   ]
  },
  {
   "cell_type": "markdown",
   "metadata": {},
   "source": [
    "В Gearbox заменим отсутствующие значения на unknown."
   ]
  },
  {
   "cell_type": "code",
   "execution_count": 28,
   "metadata": {},
   "outputs": [],
   "source": [
    "df['Gearbox'] = df['Gearbox'].fillna(value='unknown')"
   ]
  },
  {
   "cell_type": "markdown",
   "metadata": {},
   "source": [
    "В Power попробуем найти границу, за которой только гарантированные выбросы."
   ]
  },
  {
   "cell_type": "code",
   "execution_count": 29,
   "metadata": {
    "scrolled": true
   },
   "outputs": [
    {
     "data": {
      "text/plain": [
       "count    326252.000\n",
       "mean        112.436\n",
       "std         183.364\n",
       "min           0.000\n",
       "25%          72.000\n",
       "50%         105.000\n",
       "75%         143.000\n",
       "max       20000.000\n",
       "Name: Power, dtype: float64"
      ]
     },
     "execution_count": 29,
     "metadata": {},
     "output_type": "execute_result"
    }
   ],
   "source": [
    "df['Power'].describe()"
   ]
  },
  {
   "cell_type": "code",
   "execution_count": 30,
   "metadata": {},
   "outputs": [
    {
     "data": {
      "text/plain": [
       "384"
      ]
     },
     "execution_count": 30,
     "metadata": {},
     "output_type": "execute_result"
    }
   ],
   "source": [
    "len(df[df['Power']>500])"
   ]
  },
  {
   "cell_type": "code",
   "execution_count": 31,
   "metadata": {},
   "outputs": [
    {
     "data": {
      "text/plain": [
       "other       32\n",
       "golf        19\n",
       "polo        15\n",
       "3er         15\n",
       "corsa       14\n",
       "            ..\n",
       "escort       1\n",
       "seicento     1\n",
       "nubira       1\n",
       "c4           1\n",
       "megane       1\n",
       "Name: Model, Length: 92, dtype: int64"
      ]
     },
     "execution_count": 31,
     "metadata": {},
     "output_type": "execute_result"
    }
   ],
   "source": [
    "df[df['Power']>500]['Model'].value_counts()"
   ]
  },
  {
   "cell_type": "code",
   "execution_count": 32,
   "metadata": {
    "scrolled": true
   },
   "outputs": [
    {
     "data": {
      "text/html": [
       "<div>\n",
       "<style scoped>\n",
       "    .dataframe tbody tr th:only-of-type {\n",
       "        vertical-align: middle;\n",
       "    }\n",
       "\n",
       "    .dataframe tbody tr th {\n",
       "        vertical-align: top;\n",
       "    }\n",
       "\n",
       "    .dataframe thead th {\n",
       "        text-align: right;\n",
       "    }\n",
       "</style>\n",
       "<table border=\"1\" class=\"dataframe\">\n",
       "  <thead>\n",
       "    <tr style=\"text-align: right;\">\n",
       "      <th></th>\n",
       "      <th>Price</th>\n",
       "      <th>VehicleType</th>\n",
       "      <th>RegistrationYear</th>\n",
       "      <th>Gearbox</th>\n",
       "      <th>Power</th>\n",
       "      <th>Model</th>\n",
       "      <th>Kilometer</th>\n",
       "      <th>RegistrationMonth</th>\n",
       "      <th>FuelType</th>\n",
       "      <th>Brand</th>\n",
       "      <th>NotRepaired</th>\n",
       "    </tr>\n",
       "  </thead>\n",
       "  <tbody>\n",
       "    <tr>\n",
       "      <th>23173</th>\n",
       "      <td>400</td>\n",
       "      <td>unknown</td>\n",
       "      <td>2015</td>\n",
       "      <td>auto</td>\n",
       "      <td>610</td>\n",
       "      <td>other</td>\n",
       "      <td>5000</td>\n",
       "      <td>1</td>\n",
       "      <td>NaN</td>\n",
       "      <td>audi</td>\n",
       "      <td>NaN</td>\n",
       "    </tr>\n",
       "    <tr>\n",
       "      <th>23188</th>\n",
       "      <td>11999</td>\n",
       "      <td>wagon</td>\n",
       "      <td>2002</td>\n",
       "      <td>auto</td>\n",
       "      <td>504</td>\n",
       "      <td>other</td>\n",
       "      <td>150000</td>\n",
       "      <td>12</td>\n",
       "      <td>petrol</td>\n",
       "      <td>audi</td>\n",
       "      <td>no</td>\n",
       "    </tr>\n",
       "    <tr>\n",
       "      <th>32784</th>\n",
       "      <td>9500</td>\n",
       "      <td>bus</td>\n",
       "      <td>1986</td>\n",
       "      <td>auto</td>\n",
       "      <td>1659</td>\n",
       "      <td>other</td>\n",
       "      <td>40000</td>\n",
       "      <td>12</td>\n",
       "      <td>petrol</td>\n",
       "      <td>chevrolet</td>\n",
       "      <td>no</td>\n",
       "    </tr>\n",
       "    <tr>\n",
       "      <th>53953</th>\n",
       "      <td>550</td>\n",
       "      <td>small</td>\n",
       "      <td>2000</td>\n",
       "      <td>manual</td>\n",
       "      <td>1360</td>\n",
       "      <td>other</td>\n",
       "      <td>150000</td>\n",
       "      <td>1</td>\n",
       "      <td>petrol</td>\n",
       "      <td>citroen</td>\n",
       "      <td>yes</td>\n",
       "    </tr>\n",
       "    <tr>\n",
       "      <th>73749</th>\n",
       "      <td>18500</td>\n",
       "      <td>sedan</td>\n",
       "      <td>2012</td>\n",
       "      <td>auto</td>\n",
       "      <td>520</td>\n",
       "      <td>other</td>\n",
       "      <td>50000</td>\n",
       "      <td>0</td>\n",
       "      <td>petrol</td>\n",
       "      <td>audi</td>\n",
       "      <td>yes</td>\n",
       "    </tr>\n",
       "    <tr>\n",
       "      <th>92226</th>\n",
       "      <td>950</td>\n",
       "      <td>small</td>\n",
       "      <td>2001</td>\n",
       "      <td>manual</td>\n",
       "      <td>8404</td>\n",
       "      <td>other</td>\n",
       "      <td>125000</td>\n",
       "      <td>7</td>\n",
       "      <td>petrol</td>\n",
       "      <td>suzuki</td>\n",
       "      <td>NaN</td>\n",
       "    </tr>\n",
       "    <tr>\n",
       "      <th>102613</th>\n",
       "      <td>19500</td>\n",
       "      <td>coupe</td>\n",
       "      <td>1974</td>\n",
       "      <td>auto</td>\n",
       "      <td>600</td>\n",
       "      <td>other</td>\n",
       "      <td>5000</td>\n",
       "      <td>7</td>\n",
       "      <td>petrol</td>\n",
       "      <td>chevrolet</td>\n",
       "      <td>no</td>\n",
       "    </tr>\n",
       "    <tr>\n",
       "      <th>105658</th>\n",
       "      <td>19000</td>\n",
       "      <td>wagon</td>\n",
       "      <td>2008</td>\n",
       "      <td>auto</td>\n",
       "      <td>579</td>\n",
       "      <td>other</td>\n",
       "      <td>150000</td>\n",
       "      <td>3</td>\n",
       "      <td>petrol</td>\n",
       "      <td>audi</td>\n",
       "      <td>yes</td>\n",
       "    </tr>\n",
       "    <tr>\n",
       "      <th>119692</th>\n",
       "      <td>3000</td>\n",
       "      <td>small</td>\n",
       "      <td>2013</td>\n",
       "      <td>manual</td>\n",
       "      <td>1000</td>\n",
       "      <td>other</td>\n",
       "      <td>150000</td>\n",
       "      <td>0</td>\n",
       "      <td>petrol</td>\n",
       "      <td>ford</td>\n",
       "      <td>yes</td>\n",
       "    </tr>\n",
       "    <tr>\n",
       "      <th>124348</th>\n",
       "      <td>19999</td>\n",
       "      <td>sedan</td>\n",
       "      <td>2005</td>\n",
       "      <td>unknown</td>\n",
       "      <td>550</td>\n",
       "      <td>other</td>\n",
       "      <td>150000</td>\n",
       "      <td>6</td>\n",
       "      <td>NaN</td>\n",
       "      <td>mercedes_benz</td>\n",
       "      <td>no</td>\n",
       "    </tr>\n",
       "    <tr>\n",
       "      <th>124994</th>\n",
       "      <td>12900</td>\n",
       "      <td>wagon</td>\n",
       "      <td>2003</td>\n",
       "      <td>auto</td>\n",
       "      <td>504</td>\n",
       "      <td>other</td>\n",
       "      <td>150000</td>\n",
       "      <td>11</td>\n",
       "      <td>petrol</td>\n",
       "      <td>audi</td>\n",
       "      <td>no</td>\n",
       "    </tr>\n",
       "    <tr>\n",
       "      <th>142476</th>\n",
       "      <td>8600</td>\n",
       "      <td>other</td>\n",
       "      <td>2007</td>\n",
       "      <td>unknown</td>\n",
       "      <td>3500</td>\n",
       "      <td>other</td>\n",
       "      <td>150000</td>\n",
       "      <td>12</td>\n",
       "      <td>NaN</td>\n",
       "      <td>volkswagen</td>\n",
       "      <td>NaN</td>\n",
       "    </tr>\n",
       "    <tr>\n",
       "      <th>148727</th>\n",
       "      <td>2300</td>\n",
       "      <td>unknown</td>\n",
       "      <td>2016</td>\n",
       "      <td>manual</td>\n",
       "      <td>1300</td>\n",
       "      <td>other</td>\n",
       "      <td>125000</td>\n",
       "      <td>6</td>\n",
       "      <td>lpg</td>\n",
       "      <td>mitsubishi</td>\n",
       "      <td>no</td>\n",
       "    </tr>\n",
       "    <tr>\n",
       "      <th>155997</th>\n",
       "      <td>16500</td>\n",
       "      <td>wagon</td>\n",
       "      <td>2003</td>\n",
       "      <td>auto</td>\n",
       "      <td>510</td>\n",
       "      <td>other</td>\n",
       "      <td>125000</td>\n",
       "      <td>3</td>\n",
       "      <td>petrol</td>\n",
       "      <td>audi</td>\n",
       "      <td>no</td>\n",
       "    </tr>\n",
       "    <tr>\n",
       "      <th>172462</th>\n",
       "      <td>3000</td>\n",
       "      <td>wagon</td>\n",
       "      <td>2002</td>\n",
       "      <td>manual</td>\n",
       "      <td>2000</td>\n",
       "      <td>other</td>\n",
       "      <td>5000</td>\n",
       "      <td>2</td>\n",
       "      <td>gasoline</td>\n",
       "      <td>citroen</td>\n",
       "      <td>no</td>\n",
       "    </tr>\n",
       "    <tr>\n",
       "      <th>177451</th>\n",
       "      <td>11999</td>\n",
       "      <td>wagon</td>\n",
       "      <td>2002</td>\n",
       "      <td>auto</td>\n",
       "      <td>505</td>\n",
       "      <td>other</td>\n",
       "      <td>150000</td>\n",
       "      <td>12</td>\n",
       "      <td>petrol</td>\n",
       "      <td>audi</td>\n",
       "      <td>no</td>\n",
       "    </tr>\n",
       "    <tr>\n",
       "      <th>182210</th>\n",
       "      <td>650</td>\n",
       "      <td>unknown</td>\n",
       "      <td>2016</td>\n",
       "      <td>manual</td>\n",
       "      <td>750</td>\n",
       "      <td>other</td>\n",
       "      <td>150000</td>\n",
       "      <td>8</td>\n",
       "      <td>NaN</td>\n",
       "      <td>fiat</td>\n",
       "      <td>no</td>\n",
       "    </tr>\n",
       "    <tr>\n",
       "      <th>186427</th>\n",
       "      <td>16500</td>\n",
       "      <td>coupe</td>\n",
       "      <td>2000</td>\n",
       "      <td>manual</td>\n",
       "      <td>600</td>\n",
       "      <td>other</td>\n",
       "      <td>5000</td>\n",
       "      <td>4</td>\n",
       "      <td>petrol</td>\n",
       "      <td>toyota</td>\n",
       "      <td>no</td>\n",
       "    </tr>\n",
       "    <tr>\n",
       "      <th>192079</th>\n",
       "      <td>13200</td>\n",
       "      <td>small</td>\n",
       "      <td>2013</td>\n",
       "      <td>manual</td>\n",
       "      <td>871</td>\n",
       "      <td>other</td>\n",
       "      <td>20000</td>\n",
       "      <td>1</td>\n",
       "      <td>petrol</td>\n",
       "      <td>opel</td>\n",
       "      <td>no</td>\n",
       "    </tr>\n",
       "    <tr>\n",
       "      <th>205808</th>\n",
       "      <td>3150</td>\n",
       "      <td>coupe</td>\n",
       "      <td>2007</td>\n",
       "      <td>manual</td>\n",
       "      <td>15033</td>\n",
       "      <td>other</td>\n",
       "      <td>5000</td>\n",
       "      <td>3</td>\n",
       "      <td>gasoline</td>\n",
       "      <td>alfa_romeo</td>\n",
       "      <td>no</td>\n",
       "    </tr>\n",
       "    <tr>\n",
       "      <th>207267</th>\n",
       "      <td>111</td>\n",
       "      <td>unknown</td>\n",
       "      <td>1995</td>\n",
       "      <td>unknown</td>\n",
       "      <td>900</td>\n",
       "      <td>other</td>\n",
       "      <td>5000</td>\n",
       "      <td>3</td>\n",
       "      <td>petrol</td>\n",
       "      <td>seat</td>\n",
       "      <td>NaN</td>\n",
       "    </tr>\n",
       "    <tr>\n",
       "      <th>207373</th>\n",
       "      <td>2050</td>\n",
       "      <td>other</td>\n",
       "      <td>1998</td>\n",
       "      <td>manual</td>\n",
       "      <td>603</td>\n",
       "      <td>other</td>\n",
       "      <td>70000</td>\n",
       "      <td>7</td>\n",
       "      <td>petrol</td>\n",
       "      <td>ford</td>\n",
       "      <td>NaN</td>\n",
       "    </tr>\n",
       "    <tr>\n",
       "      <th>208144</th>\n",
       "      <td>19999</td>\n",
       "      <td>coupe</td>\n",
       "      <td>2007</td>\n",
       "      <td>auto</td>\n",
       "      <td>514</td>\n",
       "      <td>other</td>\n",
       "      <td>150000</td>\n",
       "      <td>7</td>\n",
       "      <td>petrol</td>\n",
       "      <td>mercedes_benz</td>\n",
       "      <td>no</td>\n",
       "    </tr>\n",
       "    <tr>\n",
       "      <th>218406</th>\n",
       "      <td>14500</td>\n",
       "      <td>wagon</td>\n",
       "      <td>2004</td>\n",
       "      <td>auto</td>\n",
       "      <td>510</td>\n",
       "      <td>other</td>\n",
       "      <td>150000</td>\n",
       "      <td>1</td>\n",
       "      <td>petrol</td>\n",
       "      <td>audi</td>\n",
       "      <td>no</td>\n",
       "    </tr>\n",
       "    <tr>\n",
       "      <th>249238</th>\n",
       "      <td>1250</td>\n",
       "      <td>suv</td>\n",
       "      <td>1987</td>\n",
       "      <td>manual</td>\n",
       "      <td>645</td>\n",
       "      <td>other</td>\n",
       "      <td>150000</td>\n",
       "      <td>5</td>\n",
       "      <td>petrol</td>\n",
       "      <td>suzuki</td>\n",
       "      <td>yes</td>\n",
       "    </tr>\n",
       "    <tr>\n",
       "      <th>249460</th>\n",
       "      <td>4899</td>\n",
       "      <td>bus</td>\n",
       "      <td>2009</td>\n",
       "      <td>manual</td>\n",
       "      <td>907</td>\n",
       "      <td>other</td>\n",
       "      <td>150000</td>\n",
       "      <td>11</td>\n",
       "      <td>gasoline</td>\n",
       "      <td>citroen</td>\n",
       "      <td>no</td>\n",
       "    </tr>\n",
       "    <tr>\n",
       "      <th>254594</th>\n",
       "      <td>3990</td>\n",
       "      <td>bus</td>\n",
       "      <td>2003</td>\n",
       "      <td>manual</td>\n",
       "      <td>1003</td>\n",
       "      <td>other</td>\n",
       "      <td>40000</td>\n",
       "      <td>12</td>\n",
       "      <td>petrol</td>\n",
       "      <td>citroen</td>\n",
       "      <td>no</td>\n",
       "    </tr>\n",
       "    <tr>\n",
       "      <th>260366</th>\n",
       "      <td>950</td>\n",
       "      <td>small</td>\n",
       "      <td>2001</td>\n",
       "      <td>manual</td>\n",
       "      <td>999</td>\n",
       "      <td>other</td>\n",
       "      <td>125000</td>\n",
       "      <td>4</td>\n",
       "      <td>petrol</td>\n",
       "      <td>hyundai</td>\n",
       "      <td>no</td>\n",
       "    </tr>\n",
       "    <tr>\n",
       "      <th>266811</th>\n",
       "      <td>1100</td>\n",
       "      <td>sedan</td>\n",
       "      <td>2001</td>\n",
       "      <td>auto</td>\n",
       "      <td>2792</td>\n",
       "      <td>other</td>\n",
       "      <td>150000</td>\n",
       "      <td>3</td>\n",
       "      <td>lpg</td>\n",
       "      <td>volvo</td>\n",
       "      <td>NaN</td>\n",
       "    </tr>\n",
       "    <tr>\n",
       "      <th>307452</th>\n",
       "      <td>18200</td>\n",
       "      <td>wagon</td>\n",
       "      <td>2008</td>\n",
       "      <td>auto</td>\n",
       "      <td>579</td>\n",
       "      <td>other</td>\n",
       "      <td>150000</td>\n",
       "      <td>5</td>\n",
       "      <td>petrol</td>\n",
       "      <td>audi</td>\n",
       "      <td>yes</td>\n",
       "    </tr>\n",
       "    <tr>\n",
       "      <th>311474</th>\n",
       "      <td>10500</td>\n",
       "      <td>coupe</td>\n",
       "      <td>1995</td>\n",
       "      <td>manual</td>\n",
       "      <td>551</td>\n",
       "      <td>other</td>\n",
       "      <td>90000</td>\n",
       "      <td>3</td>\n",
       "      <td>petrol</td>\n",
       "      <td>nissan</td>\n",
       "      <td>yes</td>\n",
       "    </tr>\n",
       "    <tr>\n",
       "      <th>320566</th>\n",
       "      <td>14750</td>\n",
       "      <td>wagon</td>\n",
       "      <td>2008</td>\n",
       "      <td>auto</td>\n",
       "      <td>579</td>\n",
       "      <td>other</td>\n",
       "      <td>150000</td>\n",
       "      <td>9</td>\n",
       "      <td>petrol</td>\n",
       "      <td>audi</td>\n",
       "      <td>yes</td>\n",
       "    </tr>\n",
       "  </tbody>\n",
       "</table>\n",
       "</div>"
      ],
      "text/plain": [
       "        Price VehicleType  RegistrationYear  Gearbox  Power  Model  Kilometer  \\\n",
       "23173     400     unknown              2015     auto    610  other       5000   \n",
       "23188   11999       wagon              2002     auto    504  other     150000   \n",
       "32784    9500         bus              1986     auto   1659  other      40000   \n",
       "53953     550       small              2000   manual   1360  other     150000   \n",
       "73749   18500       sedan              2012     auto    520  other      50000   \n",
       "92226     950       small              2001   manual   8404  other     125000   \n",
       "102613  19500       coupe              1974     auto    600  other       5000   \n",
       "105658  19000       wagon              2008     auto    579  other     150000   \n",
       "119692   3000       small              2013   manual   1000  other     150000   \n",
       "124348  19999       sedan              2005  unknown    550  other     150000   \n",
       "124994  12900       wagon              2003     auto    504  other     150000   \n",
       "142476   8600       other              2007  unknown   3500  other     150000   \n",
       "148727   2300     unknown              2016   manual   1300  other     125000   \n",
       "155997  16500       wagon              2003     auto    510  other     125000   \n",
       "172462   3000       wagon              2002   manual   2000  other       5000   \n",
       "177451  11999       wagon              2002     auto    505  other     150000   \n",
       "182210    650     unknown              2016   manual    750  other     150000   \n",
       "186427  16500       coupe              2000   manual    600  other       5000   \n",
       "192079  13200       small              2013   manual    871  other      20000   \n",
       "205808   3150       coupe              2007   manual  15033  other       5000   \n",
       "207267    111     unknown              1995  unknown    900  other       5000   \n",
       "207373   2050       other              1998   manual    603  other      70000   \n",
       "208144  19999       coupe              2007     auto    514  other     150000   \n",
       "218406  14500       wagon              2004     auto    510  other     150000   \n",
       "249238   1250         suv              1987   manual    645  other     150000   \n",
       "249460   4899         bus              2009   manual    907  other     150000   \n",
       "254594   3990         bus              2003   manual   1003  other      40000   \n",
       "260366    950       small              2001   manual    999  other     125000   \n",
       "266811   1100       sedan              2001     auto   2792  other     150000   \n",
       "307452  18200       wagon              2008     auto    579  other     150000   \n",
       "311474  10500       coupe              1995   manual    551  other      90000   \n",
       "320566  14750       wagon              2008     auto    579  other     150000   \n",
       "\n",
       "        RegistrationMonth  FuelType          Brand NotRepaired  \n",
       "23173                   1       NaN           audi         NaN  \n",
       "23188                  12    petrol           audi          no  \n",
       "32784                  12    petrol      chevrolet          no  \n",
       "53953                   1    petrol        citroen         yes  \n",
       "73749                   0    petrol           audi         yes  \n",
       "92226                   7    petrol         suzuki         NaN  \n",
       "102613                  7    petrol      chevrolet          no  \n",
       "105658                  3    petrol           audi         yes  \n",
       "119692                  0    petrol           ford         yes  \n",
       "124348                  6       NaN  mercedes_benz          no  \n",
       "124994                 11    petrol           audi          no  \n",
       "142476                 12       NaN     volkswagen         NaN  \n",
       "148727                  6       lpg     mitsubishi          no  \n",
       "155997                  3    petrol           audi          no  \n",
       "172462                  2  gasoline        citroen          no  \n",
       "177451                 12    petrol           audi          no  \n",
       "182210                  8       NaN           fiat          no  \n",
       "186427                  4    petrol         toyota          no  \n",
       "192079                  1    petrol           opel          no  \n",
       "205808                  3  gasoline     alfa_romeo          no  \n",
       "207267                  3    petrol           seat         NaN  \n",
       "207373                  7    petrol           ford         NaN  \n",
       "208144                  7    petrol  mercedes_benz          no  \n",
       "218406                  1    petrol           audi          no  \n",
       "249238                  5    petrol         suzuki         yes  \n",
       "249460                 11  gasoline        citroen          no  \n",
       "254594                 12    petrol        citroen          no  \n",
       "260366                  4    petrol        hyundai          no  \n",
       "266811                  3       lpg          volvo         NaN  \n",
       "307452                  5    petrol           audi         yes  \n",
       "311474                  3    petrol         nissan         yes  \n",
       "320566                  9    petrol           audi         yes  "
      ]
     },
     "execution_count": 32,
     "metadata": {},
     "output_type": "execute_result"
    }
   ],
   "source": [
    "df[(df['Power']>500) & (df['Model']=='other')]"
   ]
  },
  {
   "cell_type": "markdown",
   "metadata": {},
   "source": [
    "500 лс - приемлемая граница отсечки."
   ]
  },
  {
   "cell_type": "code",
   "execution_count": 33,
   "metadata": {},
   "outputs": [],
   "source": [
    "df = df[df['Power']<=500]"
   ]
  },
  {
   "cell_type": "markdown",
   "metadata": {},
   "source": [
    "'Model', 'FuelType', 'NotRepaired' заменим NaN'ы на unknown."
   ]
  },
  {
   "cell_type": "code",
   "execution_count": 34,
   "metadata": {},
   "outputs": [],
   "source": [
    "df['Model'] = df['Model'].fillna(value='unknown')\n",
    "df['FuelType'] = df['FuelType'].fillna(value='unknown')\n",
    "df['NotRepaired'] = df['NotRepaired'].fillna(value='unknown')"
   ]
  },
  {
   "cell_type": "code",
   "execution_count": 35,
   "metadata": {},
   "outputs": [
    {
     "data": {
      "text/plain": [
       "Price                0\n",
       "VehicleType          0\n",
       "RegistrationYear     0\n",
       "Gearbox              0\n",
       "Power                0\n",
       "Model                0\n",
       "Kilometer            0\n",
       "RegistrationMonth    0\n",
       "FuelType             0\n",
       "Brand                0\n",
       "NotRepaired          0\n",
       "dtype: int64"
      ]
     },
     "execution_count": 35,
     "metadata": {},
     "output_type": "execute_result"
    }
   ],
   "source": [
    "df.isna().sum()"
   ]
  },
  {
   "cell_type": "code",
   "execution_count": 36,
   "metadata": {
    "scrolled": false
   },
   "outputs": [
    {
     "data": {
      "text/html": [
       "<div>\n",
       "<style scoped>\n",
       "    .dataframe tbody tr th:only-of-type {\n",
       "        vertical-align: middle;\n",
       "    }\n",
       "\n",
       "    .dataframe tbody tr th {\n",
       "        vertical-align: top;\n",
       "    }\n",
       "\n",
       "    .dataframe thead th {\n",
       "        text-align: right;\n",
       "    }\n",
       "</style>\n",
       "<table border=\"1\" class=\"dataframe\">\n",
       "  <thead>\n",
       "    <tr style=\"text-align: right;\">\n",
       "      <th></th>\n",
       "      <th>Price</th>\n",
       "      <th>VehicleType</th>\n",
       "      <th>RegistrationYear</th>\n",
       "      <th>Gearbox</th>\n",
       "      <th>Power</th>\n",
       "      <th>Model</th>\n",
       "      <th>Kilometer</th>\n",
       "      <th>RegistrationMonth</th>\n",
       "      <th>FuelType</th>\n",
       "      <th>Brand</th>\n",
       "      <th>NotRepaired</th>\n",
       "    </tr>\n",
       "  </thead>\n",
       "  <tbody>\n",
       "    <tr>\n",
       "      <th>0</th>\n",
       "      <td>480</td>\n",
       "      <td>unknown</td>\n",
       "      <td>1993</td>\n",
       "      <td>manual</td>\n",
       "      <td>0</td>\n",
       "      <td>golf</td>\n",
       "      <td>150000</td>\n",
       "      <td>0</td>\n",
       "      <td>petrol</td>\n",
       "      <td>volkswagen</td>\n",
       "      <td>unknown</td>\n",
       "    </tr>\n",
       "    <tr>\n",
       "      <th>1</th>\n",
       "      <td>18300</td>\n",
       "      <td>coupe</td>\n",
       "      <td>2011</td>\n",
       "      <td>manual</td>\n",
       "      <td>190</td>\n",
       "      <td>unknown</td>\n",
       "      <td>125000</td>\n",
       "      <td>5</td>\n",
       "      <td>gasoline</td>\n",
       "      <td>audi</td>\n",
       "      <td>yes</td>\n",
       "    </tr>\n",
       "    <tr>\n",
       "      <th>2</th>\n",
       "      <td>9800</td>\n",
       "      <td>suv</td>\n",
       "      <td>2004</td>\n",
       "      <td>auto</td>\n",
       "      <td>163</td>\n",
       "      <td>grand</td>\n",
       "      <td>125000</td>\n",
       "      <td>8</td>\n",
       "      <td>gasoline</td>\n",
       "      <td>jeep</td>\n",
       "      <td>unknown</td>\n",
       "    </tr>\n",
       "    <tr>\n",
       "      <th>3</th>\n",
       "      <td>1500</td>\n",
       "      <td>small</td>\n",
       "      <td>2001</td>\n",
       "      <td>manual</td>\n",
       "      <td>75</td>\n",
       "      <td>golf</td>\n",
       "      <td>150000</td>\n",
       "      <td>6</td>\n",
       "      <td>petrol</td>\n",
       "      <td>volkswagen</td>\n",
       "      <td>no</td>\n",
       "    </tr>\n",
       "    <tr>\n",
       "      <th>4</th>\n",
       "      <td>3600</td>\n",
       "      <td>small</td>\n",
       "      <td>2008</td>\n",
       "      <td>manual</td>\n",
       "      <td>69</td>\n",
       "      <td>fabia</td>\n",
       "      <td>90000</td>\n",
       "      <td>7</td>\n",
       "      <td>gasoline</td>\n",
       "      <td>skoda</td>\n",
       "      <td>no</td>\n",
       "    </tr>\n",
       "    <tr>\n",
       "      <th>...</th>\n",
       "      <td>...</td>\n",
       "      <td>...</td>\n",
       "      <td>...</td>\n",
       "      <td>...</td>\n",
       "      <td>...</td>\n",
       "      <td>...</td>\n",
       "      <td>...</td>\n",
       "      <td>...</td>\n",
       "      <td>...</td>\n",
       "      <td>...</td>\n",
       "      <td>...</td>\n",
       "    </tr>\n",
       "    <tr>\n",
       "      <th>354363</th>\n",
       "      <td>1150</td>\n",
       "      <td>bus</td>\n",
       "      <td>2000</td>\n",
       "      <td>manual</td>\n",
       "      <td>0</td>\n",
       "      <td>zafira</td>\n",
       "      <td>150000</td>\n",
       "      <td>3</td>\n",
       "      <td>petrol</td>\n",
       "      <td>opel</td>\n",
       "      <td>no</td>\n",
       "    </tr>\n",
       "    <tr>\n",
       "      <th>354365</th>\n",
       "      <td>2200</td>\n",
       "      <td>unknown</td>\n",
       "      <td>2005</td>\n",
       "      <td>unknown</td>\n",
       "      <td>0</td>\n",
       "      <td>unknown</td>\n",
       "      <td>20000</td>\n",
       "      <td>1</td>\n",
       "      <td>unknown</td>\n",
       "      <td>sonstige_autos</td>\n",
       "      <td>unknown</td>\n",
       "    </tr>\n",
       "    <tr>\n",
       "      <th>354366</th>\n",
       "      <td>1199</td>\n",
       "      <td>convertible</td>\n",
       "      <td>2000</td>\n",
       "      <td>auto</td>\n",
       "      <td>101</td>\n",
       "      <td>fortwo</td>\n",
       "      <td>125000</td>\n",
       "      <td>3</td>\n",
       "      <td>petrol</td>\n",
       "      <td>smart</td>\n",
       "      <td>no</td>\n",
       "    </tr>\n",
       "    <tr>\n",
       "      <th>354367</th>\n",
       "      <td>9200</td>\n",
       "      <td>bus</td>\n",
       "      <td>1996</td>\n",
       "      <td>manual</td>\n",
       "      <td>102</td>\n",
       "      <td>transporter</td>\n",
       "      <td>150000</td>\n",
       "      <td>3</td>\n",
       "      <td>gasoline</td>\n",
       "      <td>volkswagen</td>\n",
       "      <td>no</td>\n",
       "    </tr>\n",
       "    <tr>\n",
       "      <th>354368</th>\n",
       "      <td>3400</td>\n",
       "      <td>wagon</td>\n",
       "      <td>2002</td>\n",
       "      <td>manual</td>\n",
       "      <td>100</td>\n",
       "      <td>golf</td>\n",
       "      <td>150000</td>\n",
       "      <td>6</td>\n",
       "      <td>gasoline</td>\n",
       "      <td>volkswagen</td>\n",
       "      <td>unknown</td>\n",
       "    </tr>\n",
       "  </tbody>\n",
       "</table>\n",
       "<p>325868 rows × 11 columns</p>\n",
       "</div>"
      ],
      "text/plain": [
       "        Price  VehicleType  RegistrationYear  Gearbox  Power        Model  \\\n",
       "0         480      unknown              1993   manual      0         golf   \n",
       "1       18300        coupe              2011   manual    190      unknown   \n",
       "2        9800          suv              2004     auto    163        grand   \n",
       "3        1500        small              2001   manual     75         golf   \n",
       "4        3600        small              2008   manual     69        fabia   \n",
       "...       ...          ...               ...      ...    ...          ...   \n",
       "354363   1150          bus              2000   manual      0       zafira   \n",
       "354365   2200      unknown              2005  unknown      0      unknown   \n",
       "354366   1199  convertible              2000     auto    101       fortwo   \n",
       "354367   9200          bus              1996   manual    102  transporter   \n",
       "354368   3400        wagon              2002   manual    100         golf   \n",
       "\n",
       "        Kilometer  RegistrationMonth  FuelType           Brand NotRepaired  \n",
       "0          150000                  0    petrol      volkswagen     unknown  \n",
       "1          125000                  5  gasoline            audi         yes  \n",
       "2          125000                  8  gasoline            jeep     unknown  \n",
       "3          150000                  6    petrol      volkswagen          no  \n",
       "4           90000                  7  gasoline           skoda          no  \n",
       "...           ...                ...       ...             ...         ...  \n",
       "354363     150000                  3    petrol            opel          no  \n",
       "354365      20000                  1   unknown  sonstige_autos     unknown  \n",
       "354366     125000                  3    petrol           smart          no  \n",
       "354367     150000                  3  gasoline      volkswagen          no  \n",
       "354368     150000                  6  gasoline      volkswagen     unknown  \n",
       "\n",
       "[325868 rows x 11 columns]"
      ]
     },
     "execution_count": 36,
     "metadata": {},
     "output_type": "execute_result"
    }
   ],
   "source": [
    "df"
   ]
  },
  {
   "cell_type": "code",
   "execution_count": 37,
   "metadata": {
    "scrolled": true
   },
   "outputs": [
    {
     "data": {
      "text/plain": [
       "Price                 int64\n",
       "VehicleType          object\n",
       "RegistrationYear      int64\n",
       "Gearbox              object\n",
       "Power                 int64\n",
       "Model                object\n",
       "Kilometer             int64\n",
       "RegistrationMonth     int64\n",
       "FuelType             object\n",
       "Brand                object\n",
       "NotRepaired          object\n",
       "dtype: object"
      ]
     },
     "execution_count": 37,
     "metadata": {},
     "output_type": "execute_result"
    }
   ],
   "source": [
    "df.dtypes"
   ]
  },
  {
   "cell_type": "markdown",
   "metadata": {},
   "source": [
    "## Обучение моделей <a id=\"step3\"></a>"
   ]
  },
  {
   "cell_type": "markdown",
   "metadata": {},
   "source": [
    "Обучение начнем с CatBoost'а, он не требует преобразования категориальных признаков.<br/>\n",
    "Затем преобразуем признаки мотодом OHE. На преобразованных данных обучим LightGBM и LinearRegression. <br/>\n",
    "Для интереса, CatBoost попробуем обучить на преобразованных данных тоже. <br/>\n",
    "Сравним показатели RMSE и времени."
   ]
  },
  {
   "cell_type": "code",
   "execution_count": 38,
   "metadata": {},
   "outputs": [],
   "source": [
    "features_defolt = ['VehicleType', 'RegistrationYear', 'Gearbox',\n",
    "       'Power', 'Model', 'Kilometer', 'RegistrationMonth', 'FuelType', 'Brand',\n",
    "       'NotRepaired']\n",
    "target_defolt = ['Price']\n",
    "cat_features = ['VehicleType', 'Gearbox',\n",
    "       'Model', 'RegistrationMonth', 'FuelType', 'Brand',\n",
    "       'NotRepaired']"
   ]
  },
  {
   "cell_type": "code",
   "execution_count": 39,
   "metadata": {},
   "outputs": [],
   "source": [
    "train_defolt = df.sample(frac=0.6, random_state=42).copy()\n",
    "\n",
    "val_defolt = df[~df.index.isin(train_defolt.index)].sample(frac=0.5, random_state=42).copy()\n",
    "\n",
    "test_defolt = df[(~df.index.isin(train_defolt.index))&(~df.index.isin(val_defolt.index))]"
   ]
  },
  {
   "cell_type": "code",
   "execution_count": 40,
   "metadata": {},
   "outputs": [
    {
     "data": {
      "text/plain": [
       "325868"
      ]
     },
     "execution_count": 40,
     "metadata": {},
     "output_type": "execute_result"
    }
   ],
   "source": [
    "len(df)"
   ]
  },
  {
   "cell_type": "code",
   "execution_count": 41,
   "metadata": {},
   "outputs": [
    {
     "data": {
      "text/plain": [
       "325868"
      ]
     },
     "execution_count": 41,
     "metadata": {},
     "output_type": "execute_result"
    }
   ],
   "source": [
    "len(train_defolt) + len (val_defolt) + len(test_defolt)"
   ]
  },
  {
   "cell_type": "markdown",
   "metadata": {},
   "source": [
    "### CatBoost на непреобразованных данных  <a id=\"step3.1\"></a>"
   ]
  },
  {
   "cell_type": "code",
   "execution_count": 42,
   "metadata": {
    "scrolled": true
   },
   "outputs": [
    {
     "name": "stdout",
     "output_type": "stream",
     "text": [
      "Requirement already satisfied: catboost in c:\\programdata\\anaconda3\\lib\\site-packages (0.24.4)\n",
      "Requirement already satisfied: numpy>=1.16.0 in c:\\users\\timur\\appdata\\roaming\\python\\python38\\site-packages (from catboost) (1.19.5)\n",
      "Requirement already satisfied: matplotlib in c:\\programdata\\anaconda3\\lib\\site-packages (from catboost) (3.2.2)\n",
      "Requirement already satisfied: plotly in c:\\programdata\\anaconda3\\lib\\site-packages (from catboost) (4.13.0)\n",
      "Requirement already satisfied: six in c:\\users\\timur\\appdata\\roaming\\python\\python38\\site-packages (from catboost) (1.15.0)\n",
      "Requirement already satisfied: graphviz in c:\\programdata\\anaconda3\\lib\\site-packages (from catboost) (0.15)\n",
      "Requirement already satisfied: scipy in c:\\programdata\\anaconda3\\lib\\site-packages (from catboost) (1.5.0)\n",
      "Requirement already satisfied: pandas>=0.24.0 in c:\\programdata\\anaconda3\\lib\\site-packages (from catboost) (1.0.5)\n",
      "Requirement already satisfied: python-dateutil>=2.6.1 in c:\\programdata\\anaconda3\\lib\\site-packages (from pandas>=0.24.0->catboost) (2.8.1)\n",
      "Requirement already satisfied: pytz>=2017.2 in c:\\programdata\\anaconda3\\lib\\site-packages (from pandas>=0.24.0->catboost) (2020.1)\n",
      "Requirement already satisfied: cycler>=0.10 in c:\\programdata\\anaconda3\\lib\\site-packages (from matplotlib->catboost) (0.10.0)\n",
      "Requirement already satisfied: pyparsing!=2.0.4,!=2.1.2,!=2.1.6,>=2.0.1 in c:\\programdata\\anaconda3\\lib\\site-packages (from matplotlib->catboost) (2.4.7)\n",
      "Requirement already satisfied: kiwisolver>=1.0.1 in c:\\programdata\\anaconda3\\lib\\site-packages (from matplotlib->catboost) (1.2.0)\n",
      "Requirement already satisfied: retrying>=1.3.3 in c:\\programdata\\anaconda3\\lib\\site-packages (from plotly->catboost) (1.3.3)\n"
     ]
    }
   ],
   "source": [
    "!pip install catboost"
   ]
  },
  {
   "cell_type": "code",
   "execution_count": 43,
   "metadata": {},
   "outputs": [],
   "source": [
    "from catboost import CatBoostRegressor"
   ]
  },
  {
   "cell_type": "code",
   "execution_count": 44,
   "metadata": {
    "scrolled": true
   },
   "outputs": [
    {
     "name": "stdout",
     "output_type": "stream",
     "text": [
      "Learning rate set to 0.124889\n",
      "0:\tlearn: 4166.9159195\ttest: 4171.4800654\tbest: 4171.4800654 (0)\ttotal: 365ms\tremaining: 6m 4s\n",
      "100:\tlearn: 1707.5670402\ttest: 1732.3749796\tbest: 1732.3749796 (100)\ttotal: 16.3s\tremaining: 2m 25s\n",
      "200:\tlearn: 1632.9500864\ttest: 1666.4165642\tbest: 1666.4165642 (200)\ttotal: 31.5s\tremaining: 2m 5s\n",
      "300:\tlearn: 1597.3843037\ttest: 1641.1969631\tbest: 1641.1969631 (300)\ttotal: 46.9s\tremaining: 1m 48s\n",
      "400:\tlearn: 1574.0307192\ttest: 1628.3895407\tbest: 1628.3895407 (400)\ttotal: 1m 2s\tremaining: 1m 33s\n",
      "500:\tlearn: 1556.9568310\ttest: 1618.4736692\tbest: 1618.4736692 (500)\ttotal: 1m 17s\tremaining: 1m 16s\n",
      "600:\tlearn: 1540.9012927\ttest: 1608.4959747\tbest: 1608.4849469 (599)\ttotal: 1m 32s\tremaining: 1m 1s\n",
      "700:\tlearn: 1524.9715536\ttest: 1599.3283262\tbest: 1599.3283262 (700)\ttotal: 1m 48s\tremaining: 46.4s\n",
      "800:\tlearn: 1514.2989267\ttest: 1594.8626706\tbest: 1594.8626706 (800)\ttotal: 2m 3s\tremaining: 30.8s\n",
      "900:\tlearn: 1504.6727745\ttest: 1590.8744956\tbest: 1590.8744956 (900)\ttotal: 2m 19s\tremaining: 15.3s\n",
      "999:\tlearn: 1495.5540526\ttest: 1587.8474487\tbest: 1587.8303914 (998)\ttotal: 2m 35s\tremaining: 0us\n",
      "\n",
      "bestTest = 1587.830391\n",
      "bestIteration = 998\n",
      "\n",
      "Shrink model to first 999 iterations.\n"
     ]
    }
   ],
   "source": [
    "start_time = time.time()\n",
    "\n",
    "model = CatBoostRegressor(verbose=100, eval_metric='RMSE', cat_features=cat_features)\n",
    "model.fit(train_defolt[features_defolt], train_defolt[target_defolt],\n",
    "          eval_set=(val_defolt[features_defolt], val_defolt[target_defolt]))\n",
    "learn_time = time.time() - start_time"
   ]
  },
  {
   "cell_type": "code",
   "execution_count": 45,
   "metadata": {},
   "outputs": [],
   "source": [
    "features_weight = pd.DataFrame({'name':features_defolt,'weight':model.feature_importances_}).sort_values('weight', ascending=False)"
   ]
  },
  {
   "cell_type": "code",
   "execution_count": 46,
   "metadata": {},
   "outputs": [
    {
     "data": {
      "text/html": [
       "<div>\n",
       "<style scoped>\n",
       "    .dataframe tbody tr th:only-of-type {\n",
       "        vertical-align: middle;\n",
       "    }\n",
       "\n",
       "    .dataframe tbody tr th {\n",
       "        vertical-align: top;\n",
       "    }\n",
       "\n",
       "    .dataframe thead th {\n",
       "        text-align: right;\n",
       "    }\n",
       "</style>\n",
       "<table border=\"1\" class=\"dataframe\">\n",
       "  <thead>\n",
       "    <tr style=\"text-align: right;\">\n",
       "      <th></th>\n",
       "      <th>name</th>\n",
       "      <th>weight</th>\n",
       "    </tr>\n",
       "  </thead>\n",
       "  <tbody>\n",
       "    <tr>\n",
       "      <th>1</th>\n",
       "      <td>RegistrationYear</td>\n",
       "      <td>38.527</td>\n",
       "    </tr>\n",
       "    <tr>\n",
       "      <th>3</th>\n",
       "      <td>Power</td>\n",
       "      <td>21.013</td>\n",
       "    </tr>\n",
       "    <tr>\n",
       "      <th>0</th>\n",
       "      <td>VehicleType</td>\n",
       "      <td>12.241</td>\n",
       "    </tr>\n",
       "    <tr>\n",
       "      <th>5</th>\n",
       "      <td>Kilometer</td>\n",
       "      <td>9.362</td>\n",
       "    </tr>\n",
       "    <tr>\n",
       "      <th>8</th>\n",
       "      <td>Brand</td>\n",
       "      <td>8.594</td>\n",
       "    </tr>\n",
       "    <tr>\n",
       "      <th>4</th>\n",
       "      <td>Model</td>\n",
       "      <td>4.421</td>\n",
       "    </tr>\n",
       "    <tr>\n",
       "      <th>9</th>\n",
       "      <td>NotRepaired</td>\n",
       "      <td>2.865</td>\n",
       "    </tr>\n",
       "    <tr>\n",
       "      <th>7</th>\n",
       "      <td>FuelType</td>\n",
       "      <td>1.627</td>\n",
       "    </tr>\n",
       "    <tr>\n",
       "      <th>2</th>\n",
       "      <td>Gearbox</td>\n",
       "      <td>0.962</td>\n",
       "    </tr>\n",
       "    <tr>\n",
       "      <th>6</th>\n",
       "      <td>RegistrationMonth</td>\n",
       "      <td>0.388</td>\n",
       "    </tr>\n",
       "  </tbody>\n",
       "</table>\n",
       "</div>"
      ],
      "text/plain": [
       "                name  weight\n",
       "1   RegistrationYear  38.527\n",
       "3              Power  21.013\n",
       "0        VehicleType  12.241\n",
       "5          Kilometer   9.362\n",
       "8              Brand   8.594\n",
       "4              Model   4.421\n",
       "9        NotRepaired   2.865\n",
       "7           FuelType   1.627\n",
       "2            Gearbox   0.962\n",
       "6  RegistrationMonth   0.388"
      ]
     },
     "execution_count": 46,
     "metadata": {},
     "output_type": "execute_result"
    }
   ],
   "source": [
    "features_weight"
   ]
  },
  {
   "cell_type": "code",
   "execution_count": 47,
   "metadata": {},
   "outputs": [
    {
     "data": {
      "text/plain": [
       "<matplotlib.axes._subplots.AxesSubplot at 0x1a2abafe310>"
      ]
     },
     "execution_count": 47,
     "metadata": {},
     "output_type": "execute_result"
    },
    {
     "data": {
      "image/png": "[encoded data removed]",
      "text/plain": [
       "<Figure size 1152x648 with 1 Axes>"
      ]
     },
     "metadata": {
      "needs_background": "light"
     },
     "output_type": "display_data"
    }
   ],
   "source": [
    "features_weight.set_index('name')['weight'].plot(kind='bar', figsize=(16, 9))"
   ]
  },
  {
   "cell_type": "code",
   "execution_count": 48,
   "metadata": {},
   "outputs": [
    {
     "name": "stdout",
     "output_type": "stream",
     "text": [
      "RMSE = 1580.7334857670296\n",
      "Время затраченное на обучение - 157.50357484817505 секунд\n",
      "Время затраченное на предсказание - 0.28801584243774414 секунд\n"
     ]
    }
   ],
   "source": [
    "start_time = time.time()\n",
    "pred = model.predict(test_defolt[features_defolt])\n",
    "pred_time = time.time() - start_time\n",
    "rmse = mean_squared_error(pred, test_defolt[target_defolt]) ** 0.5\n",
    "print('RMSE =', rmse)\n",
    "print('Время затраченное на обучение -', learn_time, 'секунд')\n",
    "print('Время затраченное на предсказание -', pred_time, 'секунд')"
   ]
  },
  {
   "cell_type": "code",
   "execution_count": 49,
   "metadata": {},
   "outputs": [],
   "source": [
    "Name = ['Cat_Defolt']\n",
    "RMSE = [rmse]\n",
    "Learn_Time = [learn_time]\n",
    "Pred_Time = [pred_time]"
   ]
  },
  {
   "cell_type": "markdown",
   "metadata": {},
   "source": [
    "### OHE  <a id=\"step3.2\"></a>"
   ]
  },
  {
   "cell_type": "code",
   "execution_count": 50,
   "metadata": {
    "scrolled": true
   },
   "outputs": [],
   "source": [
    "df_ohe = pd.get_dummies(df, drop_first=True)"
   ]
  },
  {
   "cell_type": "code",
   "execution_count": 51,
   "metadata": {
    "scrolled": false
   },
   "outputs": [
    {
     "data": {
      "text/plain": [
       "Index(['Price', 'RegistrationYear', 'Power', 'Kilometer', 'RegistrationMonth',\n",
       "       'VehicleType_convertible', 'VehicleType_coupe', 'VehicleType_other',\n",
       "       'VehicleType_sedan', 'VehicleType_small',\n",
       "       ...\n",
       "       'Brand_smart', 'Brand_sonstige_autos', 'Brand_subaru', 'Brand_suzuki',\n",
       "       'Brand_toyota', 'Brand_trabant', 'Brand_volkswagen', 'Brand_volvo',\n",
       "       'NotRepaired_unknown', 'NotRepaired_yes'],\n",
       "      dtype='object', length=313)"
      ]
     },
     "execution_count": 51,
     "metadata": {},
     "output_type": "execute_result"
    }
   ],
   "source": [
    "df_ohe.columns"
   ]
  },
  {
   "cell_type": "code",
   "execution_count": 52,
   "metadata": {},
   "outputs": [],
   "source": [
    "features_ohe = df_ohe.columns.drop(['Price'])\n",
    "target_ohe = ['Price']"
   ]
  },
  {
   "cell_type": "code",
   "execution_count": 53,
   "metadata": {},
   "outputs": [],
   "source": [
    "train_ohe = df_ohe.sample(frac=0.6, random_state=42).copy()\n",
    "\n",
    "val_ohe = df_ohe[~df_ohe.index.isin(train_defolt.index)].sample(frac=0.5, random_state=42).copy()\n",
    "\n",
    "test_ohe = df_ohe[(~df_ohe.index.isin(train_ohe.index))&(~df_ohe.index.isin(val_ohe.index))]"
   ]
  },
  {
   "cell_type": "markdown",
   "metadata": {},
   "source": [
    "### LightGBM"
   ]
  },
  {
   "cell_type": "code",
   "execution_count": 54,
   "metadata": {
    "scrolled": true
   },
   "outputs": [
    {
     "name": "stdout",
     "output_type": "stream",
     "text": [
      "Requirement already satisfied: lightgbm in c:\\programdata\\anaconda3\\lib\\site-packages (3.1.1)\n",
      "Requirement already satisfied: numpy in c:\\users\\timur\\appdata\\roaming\\python\\python38\\site-packages (from lightgbm) (1.19.5)\n",
      "Requirement already satisfied: scikit-learn!=0.22.0 in c:\\programdata\\anaconda3\\lib\\site-packages (from lightgbm) (0.23.1)\n",
      "Requirement already satisfied: scipy in c:\\programdata\\anaconda3\\lib\\site-packages (from lightgbm) (1.5.0)\n",
      "Requirement already satisfied: wheel in c:\\users\\timur\\appdata\\roaming\\python\\python38\\site-packages (from lightgbm) (0.36.2)\n",
      "Requirement already satisfied: threadpoolctl>=2.0.0 in c:\\programdata\\anaconda3\\lib\\site-packages (from scikit-learn!=0.22.0->lightgbm) (2.1.0)\n",
      "Requirement already satisfied: joblib>=0.11 in c:\\programdata\\anaconda3\\lib\\site-packages (from scikit-learn!=0.22.0->lightgbm) (0.16.0)\n"
     ]
    }
   ],
   "source": [
    "!pip install lightgbm"
   ]
  },
  {
   "cell_type": "code",
   "execution_count": 55,
   "metadata": {},
   "outputs": [],
   "source": [
    "from lightgbm import LGBMRegressor"
   ]
  },
  {
   "cell_type": "markdown",
   "metadata": {},
   "source": [
    "#### GridSearchCV для LightGBM"
   ]
  },
  {
   "cell_type": "code",
   "execution_count": 56,
   "metadata": {},
   "outputs": [],
   "source": [
    "from sklearn.model_selection import GridSearchCV"
   ]
  },
  {
   "cell_type": "code",
   "execution_count": 57,
   "metadata": {
    "scrolled": true
   },
   "outputs": [
    {
     "data": {
      "text/plain": [
       "{'learning_rate': 0.25, 'max_depth': 11, 'num_leaves': 1000}"
      ]
     },
     "execution_count": 57,
     "metadata": {},
     "output_type": "execute_result"
    }
   ],
   "source": [
    "model = LGBMRegressor()\n",
    "\n",
    "param = {'num_leaves': [250, 500, 750, 1000],\n",
    "         'max_depth': range (1,13, 2),\n",
    "         'learning_rate': [0.01, 0.05, 0.1, 0.25]}\n",
    "\n",
    "start_time = time.time()\n",
    "grid = GridSearchCV(model, param, scoring='neg_root_mean_squared_error', cv=5)\n",
    "grid.fit(train_ohe[features_ohe],  train_ohe[target_ohe])\n",
    "final_time = time.time()\n",
    "\n",
    "grid.best_params_"
   ]
  },
  {
   "cell_type": "code",
   "execution_count": 58,
   "metadata": {},
   "outputs": [
    {
     "name": "stdout",
     "output_type": "stream",
     "text": [
      "Время подбора гиперпараметров для LightGBM составило - 827.2212390899658 секунд\n"
     ]
    }
   ],
   "source": [
    "print('Время подбора гиперпараметров для LightGBM составило -', final_time - start_time, 'секунд')"
   ]
  },
  {
   "cell_type": "code",
   "execution_count": 59,
   "metadata": {
    "scrolled": true
   },
   "outputs": [
    {
     "name": "stdout",
     "output_type": "stream",
     "text": [
      "[1]\tvalid_0's rmse: 3635.63\n",
      "Training until validation scores don't improve for 100 rounds\n",
      "[2]\tvalid_0's rmse: 3002.28\n",
      "[3]\tvalid_0's rmse: 2562.09\n",
      "[4]\tvalid_0's rmse: 2263.54\n",
      "[5]\tvalid_0's rmse: 2063.41\n",
      "[6]\tvalid_0's rmse: 1930.28\n",
      "[7]\tvalid_0's rmse: 1843.15\n",
      "[8]\tvalid_0's rmse: 1781.25\n",
      "[9]\tvalid_0's rmse: 1741.76\n",
      "[10]\tvalid_0's rmse: 1712.6\n",
      "[11]\tvalid_0's rmse: 1695.34\n",
      "[12]\tvalid_0's rmse: 1677.87\n",
      "[13]\tvalid_0's rmse: 1666.21\n",
      "[14]\tvalid_0's rmse: 1655.63\n",
      "[15]\tvalid_0's rmse: 1647.5\n",
      "[16]\tvalid_0's rmse: 1641.52\n",
      "[17]\tvalid_0's rmse: 1638.12\n",
      "[18]\tvalid_0's rmse: 1633.3\n",
      "[19]\tvalid_0's rmse: 1628.95\n",
      "[20]\tvalid_0's rmse: 1626.95\n",
      "[21]\tvalid_0's rmse: 1623.9\n",
      "[22]\tvalid_0's rmse: 1621.24\n",
      "[23]\tvalid_0's rmse: 1618.89\n",
      "[24]\tvalid_0's rmse: 1617.05\n",
      "[25]\tvalid_0's rmse: 1614.86\n",
      "[26]\tvalid_0's rmse: 1613.12\n",
      "[27]\tvalid_0's rmse: 1612.2\n",
      "[28]\tvalid_0's rmse: 1611.44\n",
      "[29]\tvalid_0's rmse: 1609.6\n",
      "[30]\tvalid_0's rmse: 1608.62\n",
      "[31]\tvalid_0's rmse: 1606.81\n",
      "[32]\tvalid_0's rmse: 1605.7\n",
      "[33]\tvalid_0's rmse: 1605.18\n",
      "[34]\tvalid_0's rmse: 1604.35\n",
      "[35]\tvalid_0's rmse: 1602.53\n",
      "[36]\tvalid_0's rmse: 1601.91\n",
      "[37]\tvalid_0's rmse: 1601.01\n",
      "[38]\tvalid_0's rmse: 1600.64\n",
      "[39]\tvalid_0's rmse: 1599.17\n",
      "[40]\tvalid_0's rmse: 1598.59\n",
      "[41]\tvalid_0's rmse: 1598.34\n",
      "[42]\tvalid_0's rmse: 1596.1\n",
      "[43]\tvalid_0's rmse: 1595.44\n",
      "[44]\tvalid_0's rmse: 1594.78\n",
      "[45]\tvalid_0's rmse: 1594.15\n",
      "[46]\tvalid_0's rmse: 1592.2\n",
      "[47]\tvalid_0's rmse: 1591.8\n",
      "[48]\tvalid_0's rmse: 1590.26\n",
      "[49]\tvalid_0's rmse: 1590.06\n",
      "[50]\tvalid_0's rmse: 1588.84\n",
      "[51]\tvalid_0's rmse: 1588.74\n",
      "[52]\tvalid_0's rmse: 1587.96\n",
      "[53]\tvalid_0's rmse: 1586.78\n",
      "[54]\tvalid_0's rmse: 1585.96\n",
      "[55]\tvalid_0's rmse: 1585.31\n",
      "[56]\tvalid_0's rmse: 1584.82\n",
      "[57]\tvalid_0's rmse: 1584.74\n",
      "[58]\tvalid_0's rmse: 1584.43\n",
      "[59]\tvalid_0's rmse: 1584.12\n",
      "[60]\tvalid_0's rmse: 1583.21\n",
      "[61]\tvalid_0's rmse: 1582.71\n",
      "[62]\tvalid_0's rmse: 1581.98\n",
      "[63]\tvalid_0's rmse: 1581.42\n",
      "[64]\tvalid_0's rmse: 1581\n",
      "[65]\tvalid_0's rmse: 1580.54\n",
      "[66]\tvalid_0's rmse: 1579.94\n",
      "[67]\tvalid_0's rmse: 1579.21\n",
      "[68]\tvalid_0's rmse: 1579\n",
      "[69]\tvalid_0's rmse: 1577.86\n",
      "[70]\tvalid_0's rmse: 1577.71\n",
      "[71]\tvalid_0's rmse: 1577.69\n",
      "[72]\tvalid_0's rmse: 1577.48\n",
      "[73]\tvalid_0's rmse: 1576.47\n",
      "[74]\tvalid_0's rmse: 1576.23\n",
      "[75]\tvalid_0's rmse: 1575.7\n",
      "[76]\tvalid_0's rmse: 1575.25\n",
      "[77]\tvalid_0's rmse: 1575.01\n",
      "[78]\tvalid_0's rmse: 1574.17\n",
      "[79]\tvalid_0's rmse: 1573.7\n",
      "[80]\tvalid_0's rmse: 1573.56\n",
      "[81]\tvalid_0's rmse: 1572.93\n",
      "[82]\tvalid_0's rmse: 1572.65\n",
      "[83]\tvalid_0's rmse: 1572.13\n",
      "[84]\tvalid_0's rmse: 1572.44\n",
      "[85]\tvalid_0's rmse: 1572.41\n",
      "[86]\tvalid_0's rmse: 1571.46\n",
      "[87]\tvalid_0's rmse: 1571.34\n",
      "[88]\tvalid_0's rmse: 1571.25\n",
      "[89]\tvalid_0's rmse: 1571.23\n",
      "[90]\tvalid_0's rmse: 1571.11\n",
      "[91]\tvalid_0's rmse: 1570.51\n",
      "[92]\tvalid_0's rmse: 1569.84\n",
      "[93]\tvalid_0's rmse: 1569.34\n",
      "[94]\tvalid_0's rmse: 1569.17\n",
      "[95]\tvalid_0's rmse: 1569.08\n",
      "[96]\tvalid_0's rmse: 1568.76\n",
      "[97]\tvalid_0's rmse: 1568.71\n",
      "[98]\tvalid_0's rmse: 1568.55\n",
      "[99]\tvalid_0's rmse: 1568.47\n",
      "[100]\tvalid_0's rmse: 1567.47\n",
      "[101]\tvalid_0's rmse: 1567.15\n",
      "[102]\tvalid_0's rmse: 1567.09\n",
      "[103]\tvalid_0's rmse: 1566.98\n",
      "[104]\tvalid_0's rmse: 1566.69\n",
      "[105]\tvalid_0's rmse: 1566.14\n",
      "[106]\tvalid_0's rmse: 1566\n",
      "[107]\tvalid_0's rmse: 1566\n",
      "[108]\tvalid_0's rmse: 1565.93\n",
      "[109]\tvalid_0's rmse: 1565.89\n",
      "[110]\tvalid_0's rmse: 1565.45\n",
      "[111]\tvalid_0's rmse: 1565.42\n",
      "[112]\tvalid_0's rmse: 1565.46\n",
      "[113]\tvalid_0's rmse: 1565.45\n",
      "[114]\tvalid_0's rmse: 1565.48\n",
      "[115]\tvalid_0's rmse: 1565.5\n",
      "[116]\tvalid_0's rmse: 1565.48\n",
      "[117]\tvalid_0's rmse: 1565.33\n",
      "[118]\tvalid_0's rmse: 1565.32\n",
      "[119]\tvalid_0's rmse: 1565.09\n",
      "[120]\tvalid_0's rmse: 1564.99\n",
      "[121]\tvalid_0's rmse: 1564.95\n",
      "[122]\tvalid_0's rmse: 1564.83\n",
      "[123]\tvalid_0's rmse: 1564.59\n",
      "[124]\tvalid_0's rmse: 1564.37\n",
      "[125]\tvalid_0's rmse: 1564.31\n",
      "[126]\tvalid_0's rmse: 1564.28\n",
      "[127]\tvalid_0's rmse: 1564.16\n",
      "[128]\tvalid_0's rmse: 1564.05\n",
      "[129]\tvalid_0's rmse: 1563.98\n",
      "[130]\tvalid_0's rmse: 1563.59\n",
      "[131]\tvalid_0's rmse: 1563.47\n",
      "[132]\tvalid_0's rmse: 1563.62\n",
      "[133]\tvalid_0's rmse: 1564\n",
      "[134]\tvalid_0's rmse: 1564.12\n",
      "[135]\tvalid_0's rmse: 1564.09\n",
      "[136]\tvalid_0's rmse: 1563.28\n",
      "[137]\tvalid_0's rmse: 1563.33\n",
      "[138]\tvalid_0's rmse: 1562.81\n",
      "[139]\tvalid_0's rmse: 1562.75\n",
      "[140]\tvalid_0's rmse: 1562.89\n",
      "[141]\tvalid_0's rmse: 1562.9\n",
      "[142]\tvalid_0's rmse: 1563.05\n",
      "[143]\tvalid_0's rmse: 1563.34\n",
      "[144]\tvalid_0's rmse: 1562.73\n",
      "[145]\tvalid_0's rmse: 1562.64\n",
      "[146]\tvalid_0's rmse: 1562.69\n",
      "[147]\tvalid_0's rmse: 1562.4\n",
      "[148]\tvalid_0's rmse: 1562.16\n",
      "[149]\tvalid_0's rmse: 1562.23\n",
      "[150]\tvalid_0's rmse: 1561.85\n",
      "[151]\tvalid_0's rmse: 1561.14\n",
      "[152]\tvalid_0's rmse: 1561.18\n",
      "[153]\tvalid_0's rmse: 1561.2\n",
      "[154]\tvalid_0's rmse: 1561.22\n",
      "[155]\tvalid_0's rmse: 1560.76\n",
      "[156]\tvalid_0's rmse: 1560.68\n",
      "[157]\tvalid_0's rmse: 1560.49\n",
      "[158]\tvalid_0's rmse: 1560.34\n",
      "[159]\tvalid_0's rmse: 1560.27\n",
      "[160]\tvalid_0's rmse: 1559.93\n",
      "[161]\tvalid_0's rmse: 1559.88\n",
      "[162]\tvalid_0's rmse: 1559.82\n",
      "[163]\tvalid_0's rmse: 1559.61\n",
      "[164]\tvalid_0's rmse: 1558.9\n",
      "[165]\tvalid_0's rmse: 1558.61\n",
      "[166]\tvalid_0's rmse: 1558.16\n",
      "[167]\tvalid_0's rmse: 1557.97\n",
      "[168]\tvalid_0's rmse: 1557.93\n",
      "[169]\tvalid_0's rmse: 1557.84\n",
      "[170]\tvalid_0's rmse: 1557.71\n",
      "[171]\tvalid_0's rmse: 1557.94\n",
      "[172]\tvalid_0's rmse: 1557.87\n",
      "[173]\tvalid_0's rmse: 1557.94\n",
      "[174]\tvalid_0's rmse: 1557.97\n",
      "[175]\tvalid_0's rmse: 1557.97\n",
      "[176]\tvalid_0's rmse: 1557.88\n",
      "[177]\tvalid_0's rmse: 1557.83\n",
      "[178]\tvalid_0's rmse: 1557.6\n",
      "[179]\tvalid_0's rmse: 1557.71\n",
      "[180]\tvalid_0's rmse: 1557.84\n",
      "[181]\tvalid_0's rmse: 1557.79\n",
      "[182]\tvalid_0's rmse: 1557.77\n",
      "[183]\tvalid_0's rmse: 1557.75\n",
      "[184]\tvalid_0's rmse: 1557.69\n",
      "[185]\tvalid_0's rmse: 1557.58\n",
      "[186]\tvalid_0's rmse: 1557.61\n",
      "[187]\tvalid_0's rmse: 1557.56\n",
      "[188]\tvalid_0's rmse: 1557.39\n",
      "[189]\tvalid_0's rmse: 1557.33\n",
      "[190]\tvalid_0's rmse: 1557.15\n",
      "[191]\tvalid_0's rmse: 1557.25\n",
      "[192]\tvalid_0's rmse: 1556.9\n",
      "[193]\tvalid_0's rmse: 1556.72\n",
      "[194]\tvalid_0's rmse: 1556.82\n",
      "[195]\tvalid_0's rmse: 1556.86\n",
      "[196]\tvalid_0's rmse: 1556.68\n",
      "[197]\tvalid_0's rmse: 1556.7\n",
      "[198]\tvalid_0's rmse: 1556.68\n",
      "[199]\tvalid_0's rmse: 1556.66\n",
      "[200]\tvalid_0's rmse: 1556.55\n",
      "[201]\tvalid_0's rmse: 1556.48\n",
      "[202]\tvalid_0's rmse: 1556.55\n",
      "[203]\tvalid_0's rmse: 1556.62\n",
      "[204]\tvalid_0's rmse: 1556.35\n",
      "[205]\tvalid_0's rmse: 1556.27\n",
      "[206]\tvalid_0's rmse: 1556.31\n",
      "[207]\tvalid_0's rmse: 1556.3\n",
      "[208]\tvalid_0's rmse: 1556.32\n",
      "[209]\tvalid_0's rmse: 1556.19\n",
      "[210]\tvalid_0's rmse: 1555.99\n",
      "[211]\tvalid_0's rmse: 1556\n",
      "[212]\tvalid_0's rmse: 1555.64\n",
      "[213]\tvalid_0's rmse: 1555.67\n",
      "[214]\tvalid_0's rmse: 1555.78\n",
      "[215]\tvalid_0's rmse: 1555.7\n",
      "[216]\tvalid_0's rmse: 1555.65\n",
      "[217]\tvalid_0's rmse: 1555.65\n",
      "[218]\tvalid_0's rmse: 1555.65\n",
      "[219]\tvalid_0's rmse: 1555.6\n",
      "[220]\tvalid_0's rmse: 1555.45\n",
      "[221]\tvalid_0's rmse: 1555.31\n",
      "[222]\tvalid_0's rmse: 1555.31\n",
      "[223]\tvalid_0's rmse: 1555.35\n",
      "[224]\tvalid_0's rmse: 1555.17\n",
      "[225]\tvalid_0's rmse: 1555.16\n",
      "[226]\tvalid_0's rmse: 1555.14\n",
      "[227]\tvalid_0's rmse: 1555.03\n",
      "[228]\tvalid_0's rmse: 1554.71\n",
      "[229]\tvalid_0's rmse: 1554.6\n",
      "[230]\tvalid_0's rmse: 1554.64\n",
      "[231]\tvalid_0's rmse: 1554.36\n",
      "[232]\tvalid_0's rmse: 1554.29\n",
      "[233]\tvalid_0's rmse: 1554.15\n",
      "[234]\tvalid_0's rmse: 1554.38\n",
      "[235]\tvalid_0's rmse: 1554.28\n",
      "[236]\tvalid_0's rmse: 1554.16\n",
      "[237]\tvalid_0's rmse: 1554.06\n",
      "[238]\tvalid_0's rmse: 1554.13\n",
      "[239]\tvalid_0's rmse: 1553.95\n",
      "[240]\tvalid_0's rmse: 1554.06\n",
      "[241]\tvalid_0's rmse: 1554.15\n",
      "[242]\tvalid_0's rmse: 1554.19\n",
      "[243]\tvalid_0's rmse: 1554.33\n",
      "[244]\tvalid_0's rmse: 1554.26\n",
      "[245]\tvalid_0's rmse: 1554.03\n",
      "[246]\tvalid_0's rmse: 1554.04\n",
      "[247]\tvalid_0's rmse: 1553.83\n",
      "[248]\tvalid_0's rmse: 1553.79\n",
      "[249]\tvalid_0's rmse: 1553.79\n",
      "[250]\tvalid_0's rmse: 1553.8\n",
      "[251]\tvalid_0's rmse: 1553.7\n",
      "[252]\tvalid_0's rmse: 1553.64\n",
      "[253]\tvalid_0's rmse: 1553.66\n",
      "[254]\tvalid_0's rmse: 1553.63\n",
      "[255]\tvalid_0's rmse: 1553.51\n",
      "[256]\tvalid_0's rmse: 1553.49\n",
      "[257]\tvalid_0's rmse: 1553.67\n",
      "[258]\tvalid_0's rmse: 1553.62\n",
      "[259]\tvalid_0's rmse: 1553.51\n",
      "[260]\tvalid_0's rmse: 1553.47\n",
      "[261]\tvalid_0's rmse: 1553.41\n",
      "[262]\tvalid_0's rmse: 1553.46\n",
      "[263]\tvalid_0's rmse: 1553.45\n",
      "[264]\tvalid_0's rmse: 1553.5\n",
      "[265]\tvalid_0's rmse: 1553.44\n",
      "[266]\tvalid_0's rmse: 1553.42\n",
      "[267]\tvalid_0's rmse: 1553.47\n",
      "[268]\tvalid_0's rmse: 1553.49\n",
      "[269]\tvalid_0's rmse: 1553.47\n",
      "[270]\tvalid_0's rmse: 1553.41\n",
      "[271]\tvalid_0's rmse: 1553.36\n",
      "[272]\tvalid_0's rmse: 1553.11\n",
      "[273]\tvalid_0's rmse: 1553.22\n",
      "[274]\tvalid_0's rmse: 1553.11\n",
      "[275]\tvalid_0's rmse: 1553.19\n",
      "[276]\tvalid_0's rmse: 1553.22\n",
      "[277]\tvalid_0's rmse: 1553.2\n",
      "[278]\tvalid_0's rmse: 1553.35\n",
      "[279]\tvalid_0's rmse: 1553.23\n",
      "[280]\tvalid_0's rmse: 1552.88\n",
      "[281]\tvalid_0's rmse: 1552.75\n",
      "[282]\tvalid_0's rmse: 1552.76\n",
      "[283]\tvalid_0's rmse: 1552.6\n",
      "[284]\tvalid_0's rmse: 1552.67\n",
      "[285]\tvalid_0's rmse: 1552.28\n",
      "[286]\tvalid_0's rmse: 1552.47\n",
      "[287]\tvalid_0's rmse: 1552.55\n",
      "[288]\tvalid_0's rmse: 1552.5\n",
      "[289]\tvalid_0's rmse: 1552.22\n",
      "[290]\tvalid_0's rmse: 1552.37\n",
      "[291]\tvalid_0's rmse: 1551.96\n",
      "[292]\tvalid_0's rmse: 1551.95\n",
      "[293]\tvalid_0's rmse: 1551.65\n",
      "[294]\tvalid_0's rmse: 1551.37\n",
      "[295]\tvalid_0's rmse: 1551.18\n"
     ]
    },
    {
     "name": "stdout",
     "output_type": "stream",
     "text": [
      "[296]\tvalid_0's rmse: 1551.09\n",
      "[297]\tvalid_0's rmse: 1550.98\n",
      "[298]\tvalid_0's rmse: 1550.91\n",
      "[299]\tvalid_0's rmse: 1550.89\n",
      "[300]\tvalid_0's rmse: 1550.89\n",
      "[301]\tvalid_0's rmse: 1550.87\n",
      "[302]\tvalid_0's rmse: 1550.77\n",
      "[303]\tvalid_0's rmse: 1550.84\n",
      "[304]\tvalid_0's rmse: 1550.79\n",
      "[305]\tvalid_0's rmse: 1550.6\n",
      "[306]\tvalid_0's rmse: 1550.65\n",
      "[307]\tvalid_0's rmse: 1550.65\n",
      "[308]\tvalid_0's rmse: 1550.63\n",
      "[309]\tvalid_0's rmse: 1550.64\n",
      "[310]\tvalid_0's rmse: 1550.62\n",
      "[311]\tvalid_0's rmse: 1550.71\n",
      "[312]\tvalid_0's rmse: 1550.65\n",
      "[313]\tvalid_0's rmse: 1550.63\n",
      "[314]\tvalid_0's rmse: 1550.49\n",
      "[315]\tvalid_0's rmse: 1550.33\n",
      "[316]\tvalid_0's rmse: 1550.22\n",
      "[317]\tvalid_0's rmse: 1550.16\n",
      "[318]\tvalid_0's rmse: 1550.19\n",
      "[319]\tvalid_0's rmse: 1550.17\n",
      "[320]\tvalid_0's rmse: 1550.32\n",
      "[321]\tvalid_0's rmse: 1550.17\n",
      "[322]\tvalid_0's rmse: 1550.27\n",
      "[323]\tvalid_0's rmse: 1550.33\n",
      "[324]\tvalid_0's rmse: 1550.41\n",
      "[325]\tvalid_0's rmse: 1550.42\n",
      "[326]\tvalid_0's rmse: 1550.25\n",
      "[327]\tvalid_0's rmse: 1550.27\n",
      "[328]\tvalid_0's rmse: 1550.24\n",
      "[329]\tvalid_0's rmse: 1550.23\n",
      "[330]\tvalid_0's rmse: 1550.11\n",
      "[331]\tvalid_0's rmse: 1550.08\n",
      "[332]\tvalid_0's rmse: 1550.14\n",
      "[333]\tvalid_0's rmse: 1550.05\n",
      "[334]\tvalid_0's rmse: 1550.06\n",
      "[335]\tvalid_0's rmse: 1550\n",
      "[336]\tvalid_0's rmse: 1550.19\n",
      "[337]\tvalid_0's rmse: 1550.16\n",
      "[338]\tvalid_0's rmse: 1550.2\n",
      "[339]\tvalid_0's rmse: 1550.17\n",
      "[340]\tvalid_0's rmse: 1550.22\n",
      "[341]\tvalid_0's rmse: 1550.22\n",
      "[342]\tvalid_0's rmse: 1550.16\n",
      "[343]\tvalid_0's rmse: 1550.14\n",
      "[344]\tvalid_0's rmse: 1550.12\n",
      "[345]\tvalid_0's rmse: 1550.19\n",
      "[346]\tvalid_0's rmse: 1550.02\n",
      "[347]\tvalid_0's rmse: 1550.18\n",
      "[348]\tvalid_0's rmse: 1550.22\n",
      "[349]\tvalid_0's rmse: 1550.23\n",
      "[350]\tvalid_0's rmse: 1550.15\n",
      "[351]\tvalid_0's rmse: 1550.13\n",
      "[352]\tvalid_0's rmse: 1550.05\n",
      "[353]\tvalid_0's rmse: 1550.15\n",
      "[354]\tvalid_0's rmse: 1550.28\n",
      "[355]\tvalid_0's rmse: 1550.29\n",
      "[356]\tvalid_0's rmse: 1550.19\n",
      "[357]\tvalid_0's rmse: 1550.21\n",
      "[358]\tvalid_0's rmse: 1550.09\n",
      "[359]\tvalid_0's rmse: 1550.09\n",
      "[360]\tvalid_0's rmse: 1550.19\n",
      "[361]\tvalid_0's rmse: 1550.17\n",
      "[362]\tvalid_0's rmse: 1550.22\n",
      "[363]\tvalid_0's rmse: 1550.14\n",
      "[364]\tvalid_0's rmse: 1550.22\n",
      "[365]\tvalid_0's rmse: 1550.23\n",
      "[366]\tvalid_0's rmse: 1550.41\n",
      "[367]\tvalid_0's rmse: 1550.51\n",
      "[368]\tvalid_0's rmse: 1550.51\n",
      "[369]\tvalid_0's rmse: 1550.45\n",
      "[370]\tvalid_0's rmse: 1550.5\n",
      "[371]\tvalid_0's rmse: 1550.47\n",
      "[372]\tvalid_0's rmse: 1550.41\n",
      "[373]\tvalid_0's rmse: 1550.5\n",
      "[374]\tvalid_0's rmse: 1550.54\n",
      "[375]\tvalid_0's rmse: 1550.85\n",
      "[376]\tvalid_0's rmse: 1550.94\n",
      "[377]\tvalid_0's rmse: 1550.98\n",
      "[378]\tvalid_0's rmse: 1550.99\n",
      "[379]\tvalid_0's rmse: 1550.88\n",
      "[380]\tvalid_0's rmse: 1550.65\n",
      "[381]\tvalid_0's rmse: 1550.64\n",
      "[382]\tvalid_0's rmse: 1550.65\n",
      "[383]\tvalid_0's rmse: 1550.63\n",
      "[384]\tvalid_0's rmse: 1550.46\n",
      "[385]\tvalid_0's rmse: 1550.54\n",
      "[386]\tvalid_0's rmse: 1550.65\n",
      "[387]\tvalid_0's rmse: 1550.69\n",
      "[388]\tvalid_0's rmse: 1550.64\n",
      "[389]\tvalid_0's rmse: 1550.69\n",
      "[390]\tvalid_0's rmse: 1550.72\n",
      "[391]\tvalid_0's rmse: 1550.71\n",
      "[392]\tvalid_0's rmse: 1550.68\n",
      "[393]\tvalid_0's rmse: 1550.79\n",
      "[394]\tvalid_0's rmse: 1550.75\n",
      "[395]\tvalid_0's rmse: 1550.72\n",
      "[396]\tvalid_0's rmse: 1550.74\n",
      "[397]\tvalid_0's rmse: 1550.73\n",
      "[398]\tvalid_0's rmse: 1550.76\n",
      "[399]\tvalid_0's rmse: 1550.69\n",
      "[400]\tvalid_0's rmse: 1550.7\n",
      "[401]\tvalid_0's rmse: 1550.73\n",
      "[402]\tvalid_0's rmse: 1550.66\n",
      "[403]\tvalid_0's rmse: 1550.58\n",
      "[404]\tvalid_0's rmse: 1550.6\n",
      "[405]\tvalid_0's rmse: 1550.58\n",
      "[406]\tvalid_0's rmse: 1550.57\n",
      "[407]\tvalid_0's rmse: 1550.57\n",
      "[408]\tvalid_0's rmse: 1550.56\n",
      "[409]\tvalid_0's rmse: 1550.61\n",
      "[410]\tvalid_0's rmse: 1550.53\n",
      "[411]\tvalid_0's rmse: 1550.54\n",
      "[412]\tvalid_0's rmse: 1550.52\n",
      "[413]\tvalid_0's rmse: 1550.52\n",
      "[414]\tvalid_0's rmse: 1550.51\n",
      "[415]\tvalid_0's rmse: 1550.48\n",
      "[416]\tvalid_0's rmse: 1550.37\n",
      "[417]\tvalid_0's rmse: 1550.3\n",
      "[418]\tvalid_0's rmse: 1550.25\n",
      "[419]\tvalid_0's rmse: 1550.22\n",
      "[420]\tvalid_0's rmse: 1550.16\n",
      "[421]\tvalid_0's rmse: 1550.1\n",
      "[422]\tvalid_0's rmse: 1550.04\n",
      "[423]\tvalid_0's rmse: 1550.06\n",
      "[424]\tvalid_0's rmse: 1549.98\n",
      "[425]\tvalid_0's rmse: 1550.16\n",
      "[426]\tvalid_0's rmse: 1549.99\n",
      "[427]\tvalid_0's rmse: 1550.08\n",
      "[428]\tvalid_0's rmse: 1550.03\n",
      "[429]\tvalid_0's rmse: 1549.97\n",
      "[430]\tvalid_0's rmse: 1550.13\n",
      "[431]\tvalid_0's rmse: 1550.06\n",
      "[432]\tvalid_0's rmse: 1550.17\n",
      "[433]\tvalid_0's rmse: 1550.11\n",
      "[434]\tvalid_0's rmse: 1550.13\n",
      "[435]\tvalid_0's rmse: 1550.1\n",
      "[436]\tvalid_0's rmse: 1550.08\n",
      "[437]\tvalid_0's rmse: 1550.07\n",
      "[438]\tvalid_0's rmse: 1550.12\n",
      "[439]\tvalid_0's rmse: 1550.15\n",
      "[440]\tvalid_0's rmse: 1550.11\n",
      "[441]\tvalid_0's rmse: 1550.2\n",
      "[442]\tvalid_0's rmse: 1550.13\n",
      "[443]\tvalid_0's rmse: 1549.95\n",
      "[444]\tvalid_0's rmse: 1550.03\n",
      "[445]\tvalid_0's rmse: 1549.96\n",
      "[446]\tvalid_0's rmse: 1549.94\n",
      "[447]\tvalid_0's rmse: 1549.82\n",
      "[448]\tvalid_0's rmse: 1549.9\n",
      "[449]\tvalid_0's rmse: 1549.86\n",
      "[450]\tvalid_0's rmse: 1549.92\n",
      "[451]\tvalid_0's rmse: 1550\n",
      "[452]\tvalid_0's rmse: 1549.89\n",
      "[453]\tvalid_0's rmse: 1549.88\n",
      "[454]\tvalid_0's rmse: 1549.93\n",
      "[455]\tvalid_0's rmse: 1549.83\n",
      "[456]\tvalid_0's rmse: 1549.77\n",
      "[457]\tvalid_0's rmse: 1549.85\n",
      "[458]\tvalid_0's rmse: 1549.81\n",
      "[459]\tvalid_0's rmse: 1549.67\n",
      "[460]\tvalid_0's rmse: 1549.68\n",
      "[461]\tvalid_0's rmse: 1549.62\n",
      "[462]\tvalid_0's rmse: 1549.58\n",
      "[463]\tvalid_0's rmse: 1549.65\n",
      "[464]\tvalid_0's rmse: 1549.57\n",
      "[465]\tvalid_0's rmse: 1549.56\n",
      "[466]\tvalid_0's rmse: 1549.53\n",
      "[467]\tvalid_0's rmse: 1549.53\n",
      "[468]\tvalid_0's rmse: 1549.76\n",
      "[469]\tvalid_0's rmse: 1549.92\n",
      "[470]\tvalid_0's rmse: 1549.95\n",
      "[471]\tvalid_0's rmse: 1550.03\n",
      "[472]\tvalid_0's rmse: 1550.1\n",
      "[473]\tvalid_0's rmse: 1550.16\n",
      "[474]\tvalid_0's rmse: 1550.19\n",
      "[475]\tvalid_0's rmse: 1550.14\n",
      "[476]\tvalid_0's rmse: 1550.13\n",
      "[477]\tvalid_0's rmse: 1550.28\n",
      "[478]\tvalid_0's rmse: 1550.23\n",
      "[479]\tvalid_0's rmse: 1550.31\n",
      "[480]\tvalid_0's rmse: 1550.29\n",
      "[481]\tvalid_0's rmse: 1550.32\n",
      "[482]\tvalid_0's rmse: 1550.31\n",
      "[483]\tvalid_0's rmse: 1550.28\n",
      "[484]\tvalid_0's rmse: 1550.32\n",
      "[485]\tvalid_0's rmse: 1550.38\n",
      "[486]\tvalid_0's rmse: 1550.53\n",
      "[487]\tvalid_0's rmse: 1550.47\n",
      "[488]\tvalid_0's rmse: 1550.25\n",
      "[489]\tvalid_0's rmse: 1550.27\n",
      "[490]\tvalid_0's rmse: 1550.27\n",
      "[491]\tvalid_0's rmse: 1550.33\n",
      "[492]\tvalid_0's rmse: 1550.37\n",
      "[493]\tvalid_0's rmse: 1550.4\n",
      "[494]\tvalid_0's rmse: 1550.21\n",
      "[495]\tvalid_0's rmse: 1550.15\n",
      "[496]\tvalid_0's rmse: 1550.17\n",
      "[497]\tvalid_0's rmse: 1550.21\n",
      "[498]\tvalid_0's rmse: 1550.28\n",
      "[499]\tvalid_0's rmse: 1550.24\n",
      "[500]\tvalid_0's rmse: 1550.22\n",
      "[501]\tvalid_0's rmse: 1550.38\n",
      "[502]\tvalid_0's rmse: 1550.38\n",
      "[503]\tvalid_0's rmse: 1550.45\n",
      "[504]\tvalid_0's rmse: 1550.5\n",
      "[505]\tvalid_0's rmse: 1550.56\n",
      "[506]\tvalid_0's rmse: 1550.55\n",
      "[507]\tvalid_0's rmse: 1550.66\n",
      "[508]\tvalid_0's rmse: 1550.65\n",
      "[509]\tvalid_0's rmse: 1550.64\n",
      "[510]\tvalid_0's rmse: 1550.66\n",
      "[511]\tvalid_0's rmse: 1550.63\n",
      "[512]\tvalid_0's rmse: 1550.6\n",
      "[513]\tvalid_0's rmse: 1550.55\n",
      "[514]\tvalid_0's rmse: 1550.57\n",
      "[515]\tvalid_0's rmse: 1550.57\n",
      "[516]\tvalid_0's rmse: 1550.69\n",
      "[517]\tvalid_0's rmse: 1550.65\n",
      "[518]\tvalid_0's rmse: 1550.66\n",
      "[519]\tvalid_0's rmse: 1550.82\n",
      "[520]\tvalid_0's rmse: 1550.77\n",
      "[521]\tvalid_0's rmse: 1550.81\n",
      "[522]\tvalid_0's rmse: 1551.04\n",
      "[523]\tvalid_0's rmse: 1551.08\n",
      "[524]\tvalid_0's rmse: 1551.15\n",
      "[525]\tvalid_0's rmse: 1551.11\n",
      "[526]\tvalid_0's rmse: 1551.08\n",
      "[527]\tvalid_0's rmse: 1551.09\n",
      "[528]\tvalid_0's rmse: 1551.14\n",
      "[529]\tvalid_0's rmse: 1551.03\n",
      "[530]\tvalid_0's rmse: 1550.99\n",
      "[531]\tvalid_0's rmse: 1550.96\n",
      "[532]\tvalid_0's rmse: 1551\n",
      "[533]\tvalid_0's rmse: 1550.85\n",
      "[534]\tvalid_0's rmse: 1551.02\n",
      "[535]\tvalid_0's rmse: 1551.05\n",
      "[536]\tvalid_0's rmse: 1551.01\n",
      "[537]\tvalid_0's rmse: 1551.05\n",
      "[538]\tvalid_0's rmse: 1551.07\n",
      "[539]\tvalid_0's rmse: 1551.25\n",
      "[540]\tvalid_0's rmse: 1551.27\n",
      "[541]\tvalid_0's rmse: 1551.26\n",
      "[542]\tvalid_0's rmse: 1551.29\n",
      "[543]\tvalid_0's rmse: 1551.3\n",
      "[544]\tvalid_0's rmse: 1551.29\n",
      "[545]\tvalid_0's rmse: 1551.28\n",
      "[546]\tvalid_0's rmse: 1551.32\n",
      "[547]\tvalid_0's rmse: 1551.35\n",
      "[548]\tvalid_0's rmse: 1551.42\n",
      "[549]\tvalid_0's rmse: 1551.43\n",
      "[550]\tvalid_0's rmse: 1551.4\n",
      "[551]\tvalid_0's rmse: 1551.39\n",
      "[552]\tvalid_0's rmse: 1551.36\n",
      "[553]\tvalid_0's rmse: 1551.29\n",
      "[554]\tvalid_0's rmse: 1551.27\n",
      "[555]\tvalid_0's rmse: 1551.32\n",
      "[556]\tvalid_0's rmse: 1551.16\n",
      "[557]\tvalid_0's rmse: 1551.22\n",
      "[558]\tvalid_0's rmse: 1551.25\n",
      "[559]\tvalid_0's rmse: 1551.27\n",
      "[560]\tvalid_0's rmse: 1551.26\n",
      "[561]\tvalid_0's rmse: 1551.29\n",
      "[562]\tvalid_0's rmse: 1551.22\n",
      "[563]\tvalid_0's rmse: 1551.22\n",
      "[564]\tvalid_0's rmse: 1551.22\n",
      "[565]\tvalid_0's rmse: 1551.22\n",
      "[566]\tvalid_0's rmse: 1551.23\n",
      "[567]\tvalid_0's rmse: 1551.25\n",
      "Early stopping, best iteration is:\n",
      "[467]\tvalid_0's rmse: 1549.53\n"
     ]
    }
   ],
   "source": [
    "start_time = time.time()\n",
    "model = LGBMRegressor(learning_rate=0.25, max_depth=11, n_estimators=1000, num_leaves=1000, metric = 'rmse', early_stopping_round=100)\n",
    "\n",
    "model.fit(train_ohe[features_ohe], train_ohe[target_ohe],\n",
    "          eval_set=(val_ohe[features_ohe], val_ohe[target_ohe]))\n",
    "\n",
    "learn_time = time.time() - start_time"
   ]
  },
  {
   "cell_type": "code",
   "execution_count": 60,
   "metadata": {
    "scrolled": true
   },
   "outputs": [
    {
     "data": {
      "text/plain": [
       "<matplotlib.axes._subplots.AxesSubplot at 0x1a2b3823f40>"
      ]
     },
     "execution_count": 60,
     "metadata": {},
     "output_type": "execute_result"
    },
    {
     "data": {
      "image/png": "[encoded data removed]",
      "text/plain": [
       "<Figure size 1152x648 with 1 Axes>"
      ]
     },
     "metadata": {
      "needs_background": "light"
     },
     "output_type": "display_data"
    }
   ],
   "source": [
    "features_weight = pd.DataFrame({'name':features_ohe,'weight':model.feature_importances_}).sort_values('weight', ascending=False).head(20)\n",
    "\n",
    "features_weight.set_index('name')['weight'].plot(kind='bar', figsize=(16, 9))"
   ]
  },
  {
   "cell_type": "code",
   "execution_count": 61,
   "metadata": {
    "scrolled": true
   },
   "outputs": [
    {
     "name": "stdout",
     "output_type": "stream",
     "text": [
      "RMSE на тестовой выборке = 1539.4803529167534\n",
      "Время затраченное на обучение - 6.448233604431152 секунд\n",
      "Время затраченное на предсказание - 1.0726242065429688 секунд\n"
     ]
    }
   ],
   "source": [
    "start_time = time.time()\n",
    "pred = model.predict(test_ohe[features_ohe])\n",
    "pred_time = time.time() - start_time\n",
    "rmse = mean_squared_error(pred, test_ohe[target_ohe]) ** 0.5\n",
    "print('RMSE на тестовой выборке =', rmse)\n",
    "print('Время затраченное на обучение -', learn_time, 'секунд')\n",
    "print('Время затраченное на предсказание -', pred_time, 'секунд')"
   ]
  },
  {
   "cell_type": "code",
   "execution_count": 62,
   "metadata": {},
   "outputs": [],
   "source": [
    "Name.append('LightGBM')\n",
    "RMSE.append(rmse)\n",
    "Learn_Time.append(learn_time)\n",
    "Pred_Time.append(pred_time)"
   ]
  },
  {
   "cell_type": "markdown",
   "metadata": {},
   "source": [
    "### Линейная регрессия"
   ]
  },
  {
   "cell_type": "code",
   "execution_count": 63,
   "metadata": {},
   "outputs": [
    {
     "name": "stdout",
     "output_type": "stream",
     "text": [
      "RMSE на тестовой выборке = 2600.6429245556874\n",
      "Время затраченное на обучение модели LinearRegression - 2.351700782775879 секунд\n"
     ]
    }
   ],
   "source": [
    "start_time = time.time()\n",
    "model_lr = LinearRegression()\n",
    "model_lr.fit(train_ohe[features_ohe],  train_ohe[target_ohe])\n",
    "learn_time = time.time() - start_time\n",
    "start_time = time.time()\n",
    "pred = model_lr.predict(test_ohe[features_ohe])\n",
    "pred_time = time.time() - start_time\n",
    "rmse = mean_squared_error(pred, test_ohe[target_ohe]) ** 0.5\n",
    "print('RMSE на тестовой выборке =', rmse)\n",
    "print('Время затраченное на обучение модели LinearRegression -', learn_time,'секунд')"
   ]
  },
  {
   "cell_type": "code",
   "execution_count": 64,
   "metadata": {},
   "outputs": [],
   "source": [
    "Name.append('LinearRegression')\n",
    "RMSE.append(rmse)\n",
    "Learn_Time.append(learn_time)\n",
    "Pred_Time.append(pred_time)"
   ]
  },
  {
   "cell_type": "markdown",
   "metadata": {},
   "source": [
    "### CatBoost на преобразованных данных"
   ]
  },
  {
   "cell_type": "code",
   "execution_count": 65,
   "metadata": {
    "scrolled": true
   },
   "outputs": [
    {
     "name": "stdout",
     "output_type": "stream",
     "text": [
      "Learning rate set to 0.124889\n",
      "0:\tlearn: 4179.0792753\ttest: 4184.6290922\tbest: 4184.6290922 (0)\ttotal: 28.4ms\tremaining: 28.4s\n",
      "100:\tlearn: 1760.5618703\ttest: 1789.0223523\tbest: 1789.0223523 (100)\ttotal: 1.82s\tremaining: 16.2s\n",
      "200:\tlearn: 1667.8584819\ttest: 1704.4325618\tbest: 1704.4325618 (200)\ttotal: 3.6s\tremaining: 14.3s\n",
      "300:\tlearn: 1618.8820871\ttest: 1664.3410463\tbest: 1664.3410463 (300)\ttotal: 5.34s\tremaining: 12.4s\n",
      "400:\tlearn: 1584.6169635\ttest: 1638.5478699\tbest: 1638.5478699 (400)\ttotal: 7.08s\tremaining: 10.6s\n",
      "500:\tlearn: 1558.7975795\ttest: 1620.8775122\tbest: 1620.8775122 (500)\ttotal: 8.82s\tremaining: 8.79s\n",
      "600:\tlearn: 1537.4787322\ttest: 1606.7128190\tbest: 1606.7128190 (600)\ttotal: 10.6s\tremaining: 7.01s\n",
      "700:\tlearn: 1519.7872100\ttest: 1598.0463453\tbest: 1598.0463453 (700)\ttotal: 12.3s\tremaining: 5.25s\n",
      "800:\tlearn: 1505.0486084\ttest: 1590.2941150\tbest: 1590.2941150 (800)\ttotal: 14.1s\tremaining: 3.49s\n",
      "900:\tlearn: 1492.2606603\ttest: 1583.9380865\tbest: 1583.9380865 (900)\ttotal: 15.8s\tremaining: 1.73s\n",
      "999:\tlearn: 1479.7944441\ttest: 1578.2100114\tbest: 1578.2100114 (999)\ttotal: 17.5s\tremaining: 0us\n",
      "\n",
      "bestTest = 1578.210011\n",
      "bestIteration = 999\n",
      "\n"
     ]
    }
   ],
   "source": [
    "start_time = time.time()\n",
    "\n",
    "model = CatBoostRegressor(verbose=100, eval_metric='RMSE')\n",
    "model.fit(train_ohe[features_ohe], train_ohe[target_ohe],\n",
    "          eval_set=(val_ohe[features_ohe], val_ohe[target_ohe]))\n",
    "learn_time = time.time() - start_time"
   ]
  },
  {
   "cell_type": "code",
   "execution_count": 66,
   "metadata": {
    "scrolled": false
   },
   "outputs": [
    {
     "data": {
      "text/html": [
       "<div>\n",
       "<style scoped>\n",
       "    .dataframe tbody tr th:only-of-type {\n",
       "        vertical-align: middle;\n",
       "    }\n",
       "\n",
       "    .dataframe tbody tr th {\n",
       "        vertical-align: top;\n",
       "    }\n",
       "\n",
       "    .dataframe thead th {\n",
       "        text-align: right;\n",
       "    }\n",
       "</style>\n",
       "<table border=\"1\" class=\"dataframe\">\n",
       "  <thead>\n",
       "    <tr style=\"text-align: right;\">\n",
       "      <th></th>\n",
       "      <th>name</th>\n",
       "      <th>weight</th>\n",
       "    </tr>\n",
       "  </thead>\n",
       "  <tbody>\n",
       "    <tr>\n",
       "      <th>0</th>\n",
       "      <td>RegistrationYear</td>\n",
       "      <td>36.584</td>\n",
       "    </tr>\n",
       "    <tr>\n",
       "      <th>1</th>\n",
       "      <td>Power</td>\n",
       "      <td>26.338</td>\n",
       "    </tr>\n",
       "    <tr>\n",
       "      <th>2</th>\n",
       "      <td>Kilometer</td>\n",
       "      <td>10.294</td>\n",
       "    </tr>\n",
       "    <tr>\n",
       "      <th>10</th>\n",
       "      <td>VehicleType_unknown</td>\n",
       "      <td>2.765</td>\n",
       "    </tr>\n",
       "    <tr>\n",
       "      <th>4</th>\n",
       "      <td>VehicleType_convertible</td>\n",
       "      <td>2.249</td>\n",
       "    </tr>\n",
       "    <tr>\n",
       "      <th>311</th>\n",
       "      <td>NotRepaired_yes</td>\n",
       "      <td>2.036</td>\n",
       "    </tr>\n",
       "    <tr>\n",
       "      <th>265</th>\n",
       "      <td>FuelType_gasoline</td>\n",
       "      <td>1.854</td>\n",
       "    </tr>\n",
       "    <tr>\n",
       "      <th>290</th>\n",
       "      <td>Brand_mercedes_benz</td>\n",
       "      <td>1.797</td>\n",
       "    </tr>\n",
       "    <tr>\n",
       "      <th>271</th>\n",
       "      <td>Brand_audi</td>\n",
       "      <td>1.712</td>\n",
       "    </tr>\n",
       "    <tr>\n",
       "      <th>272</th>\n",
       "      <td>Brand_bmw</td>\n",
       "      <td>1.635</td>\n",
       "    </tr>\n",
       "  </tbody>\n",
       "</table>\n",
       "</div>"
      ],
      "text/plain": [
       "                        name  weight\n",
       "0           RegistrationYear  36.584\n",
       "1                      Power  26.338\n",
       "2                  Kilometer  10.294\n",
       "10       VehicleType_unknown   2.765\n",
       "4    VehicleType_convertible   2.249\n",
       "311          NotRepaired_yes   2.036\n",
       "265        FuelType_gasoline   1.854\n",
       "290      Brand_mercedes_benz   1.797\n",
       "271               Brand_audi   1.712\n",
       "272                Brand_bmw   1.635"
      ]
     },
     "execution_count": 66,
     "metadata": {},
     "output_type": "execute_result"
    }
   ],
   "source": [
    "pd.DataFrame({'name':features_ohe,'weight':model.feature_importances_}).sort_values('weight', ascending=False).head(10)"
   ]
  },
  {
   "cell_type": "code",
   "execution_count": 67,
   "metadata": {
    "scrolled": true
   },
   "outputs": [
    {
     "name": "stdout",
     "output_type": "stream",
     "text": [
      "RMSE на тестовой выборке = 1568.7274197162883\n",
      "Время затраченное на обучение модели CatBoost - 18.667577266693115 секунд\n"
     ]
    }
   ],
   "source": [
    "start_time = time.time()\n",
    "pred = model.predict(test_ohe[features_ohe])\n",
    "pred_time = time.time() - start_time\n",
    "rmse = mean_squared_error(pred, test_ohe[target_ohe]) ** 0.5\n",
    "print('RMSE на тестовой выборке =', rmse)\n",
    "print('Время затраченное на обучение модели CatBoost -', learn_time, 'секунд')"
   ]
  },
  {
   "cell_type": "markdown",
   "metadata": {},
   "source": [
    "### Наиболее важные признаки"
   ]
  },
  {
   "cell_type": "code",
   "execution_count": 68,
   "metadata": {
    "scrolled": true
   },
   "outputs": [
    {
     "data": {
      "text/plain": [
       "<matplotlib.axes._subplots.AxesSubplot at 0x1a2b2b33760>"
      ]
     },
     "execution_count": 68,
     "metadata": {},
     "output_type": "execute_result"
    },
    {
     "data": {
      "image/png": "[encoded data removed]",
      "text/plain": [
       "<Figure size 1152x648 with 1 Axes>"
      ]
     },
     "metadata": {
      "needs_background": "light"
     },
     "output_type": "display_data"
    }
   ],
   "source": [
    "features_weight = pd.DataFrame({'name':features_ohe,'weight':model.feature_importances_}).sort_values('weight', ascending=False).head(20)\n",
    "\n",
    "features_weight.set_index('name')['weight'].plot(kind='bar', figsize=(16, 9))"
   ]
  },
  {
   "cell_type": "code",
   "execution_count": 69,
   "metadata": {},
   "outputs": [],
   "source": [
    "Name.append('CatOHE')\n",
    "RMSE.append(rmse)\n",
    "Learn_Time.append(learn_time)\n",
    "Pred_Time.append(pred_time)"
   ]
  },
  {
   "cell_type": "code",
   "execution_count": 70,
   "metadata": {},
   "outputs": [],
   "source": [
    "final_table = pd.DataFrame([RMSE, Learn_Time, Pred_Time]).T\n",
    "\n",
    "final_table.columns = ['RMSE','Learn_time','Pred_time']\n",
    "final_table.index = Name"
   ]
  },
  {
   "cell_type": "markdown",
   "metadata": {},
   "source": [
    "Сводные показатели:\n",
    " - CatBoost на непреобразованных данных: RMSE - 1580.73, время обучения - 157.88 секунд;\n",
    " - LightGBM после GridSearchCV и OHE: RMSE - 1539.48, время обучения(без учета времени подбора оптимальных параметров) - 2.08 секунд;\n",
    " - Линейная регрессия после OHE: RMSE - 2600.64, время обучения - 2.71 секунды;\n",
    " - CatBoost после GridSearchCV и OHE: RMSE - 1568.72, время обучения - 19.41 секунд.\n",
    " \n",
    "1. Градиентные модели существенно выигрывают по метрике в данной задаче. <br/>\n",
    "2. Cat показал хорошие результаты без дополнительного подбора гиперпараметров, несущественно хуже чем LightGBM после GridSearchCV.<br/>\n",
    "3. После преобразования категориальных параметров методом OneHot Encoding качество CatBoost'а немного улучшилось.<br/>\n",
    "4. LightGBM лидировал с минимальным RMSE 1540.00 на тестовых данных и временем обучения модели 2.08 секунды."
   ]
  },
  {
   "cell_type": "code",
   "execution_count": 71,
   "metadata": {
    "scrolled": true
   },
   "outputs": [
    {
     "data": {
      "text/html": [
       "<div>\n",
       "<style scoped>\n",
       "    .dataframe tbody tr th:only-of-type {\n",
       "        vertical-align: middle;\n",
       "    }\n",
       "\n",
       "    .dataframe tbody tr th {\n",
       "        vertical-align: top;\n",
       "    }\n",
       "\n",
       "    .dataframe thead th {\n",
       "        text-align: right;\n",
       "    }\n",
       "</style>\n",
       "<table border=\"1\" class=\"dataframe\">\n",
       "  <thead>\n",
       "    <tr style=\"text-align: right;\">\n",
       "      <th></th>\n",
       "      <th>RMSE</th>\n",
       "      <th>Learn_time</th>\n",
       "      <th>Pred_time</th>\n",
       "    </tr>\n",
       "  </thead>\n",
       "  <tbody>\n",
       "    <tr>\n",
       "      <th>Cat_Defolt</th>\n",
       "      <td>1580.733</td>\n",
       "      <td>157.504</td>\n",
       "      <td>0.288</td>\n",
       "    </tr>\n",
       "    <tr>\n",
       "      <th>LightGBM</th>\n",
       "      <td>1539.480</td>\n",
       "      <td>6.448</td>\n",
       "      <td>1.073</td>\n",
       "    </tr>\n",
       "    <tr>\n",
       "      <th>LinearRegression</th>\n",
       "      <td>2600.643</td>\n",
       "      <td>2.352</td>\n",
       "      <td>0.176</td>\n",
       "    </tr>\n",
       "    <tr>\n",
       "      <th>CatOHE</th>\n",
       "      <td>1568.727</td>\n",
       "      <td>18.668</td>\n",
       "      <td>0.064</td>\n",
       "    </tr>\n",
       "  </tbody>\n",
       "</table>\n",
       "</div>"
      ],
      "text/plain": [
       "                      RMSE  Learn_time  Pred_time\n",
       "Cat_Defolt        1580.733     157.504      0.288\n",
       "LightGBM          1539.480       6.448      1.073\n",
       "LinearRegression  2600.643       2.352      0.176\n",
       "CatOHE            1568.727      18.668      0.064"
      ]
     },
     "execution_count": 71,
     "metadata": {},
     "output_type": "execute_result"
    }
   ],
   "source": [
    "final_table"
   ]
  },
  {
   "cell_type": "markdown",
   "metadata": {},
   "source": [
    "Требуется уточнить у заказчика, что считать приемлемыми показателями по качеству и времени обучения, прежде чем дать однозначный ответ.\n",
    "\n",
    "Но выбирать будем между LightGBM и CatBoost, прогнав их предварительно через GridSearchCV.\n",
    "\n",
    "Наиболее значимые признаки для определения цены автомобиля: год регистрации, тип кузова, мощность, пробег, брэнд."
   ]
  }
 ],
 "metadata": {
  "kernelspec": {
   "display_name": "Python 3",
   "language": "python",
   "name": "python3"
  },
  "language_info": {
   "codemirror_mode": {
    "name": "ipython",
    "version": 3
   },
   "file_extension": ".py",
   "mimetype": "text/x-python",
   "name": "python",
   "nbconvert_exporter": "python",
   "pygments_lexer": "ipython3",
   "version": "3.8.3"
  },
  "toc": {
   "base_numbering": 1,
   "nav_menu": {},
   "number_sections": true,
   "sideBar": true,
   "skip_h1_title": false,
   "title_cell": "Table of Contents",
   "title_sidebar": "Contents",
   "toc_cell": false,
   "toc_position": {},
   "toc_section_display": true,
   "toc_window_display": false
  }
 },
 "nbformat": 4,
 "nbformat_minor": 4
}
